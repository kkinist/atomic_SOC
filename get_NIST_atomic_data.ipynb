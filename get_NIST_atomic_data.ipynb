{
 "cells": [
  {
   "cell_type": "markdown",
   "metadata": {},
   "source": [
    "## Extract and save experimental atomic energy levels"
   ]
  },
  {
   "cell_type": "code",
   "execution_count": null,
   "metadata": {},
   "outputs": [],
   "source": [
    "import pandas as pd\n",
    "import numpy as np\n",
    "import os, re"
   ]
  },
  {
   "cell_type": "code",
   "execution_count": null,
   "metadata": {},
   "outputs": [],
   "source": [
    "# Specify the atom and the charge state\n",
    "atom = 'B'\n",
    "charge = 0"
   ]
  },
  {
   "cell_type": "code",
   "execution_count": null,
   "metadata": {},
   "outputs": [],
   "source": [
    "astr = atom + '+' + 'i' * (charge + 1)\n",
    "url = f'https://physics.nist.gov/cgi-bin/ASD/energy1.pl?de=0&spectrum={astr}&submit=Retrieve+Data&units=0&format=0&output=0&page_size=15&multiplet_ordered=0&conf_out=on&term_out=on&level_out=on&unc_out=1&j_out=on&lande_out=on&perc_out=on&biblio=on&temp='"
   ]
  },
  {
   "cell_type": "code",
   "execution_count": null,
   "metadata": {},
   "outputs": [],
   "source": [
    "# Read all the tables\n",
    "dfs = pd.read_html(url, header=0)"
   ]
  },
  {
   "cell_type": "code",
   "execution_count": null,
   "metadata": {},
   "outputs": [],
   "source": [
    "# Select the table that contains spectroscopic data\n",
    "for df in dfs:\n",
    "    if 'Configuration' in df.columns:\n",
    "        dfexpt = df"
   ]
  },
  {
   "cell_type": "code",
   "execution_count": null,
   "metadata": {},
   "outputs": [],
   "source": [
    "# Keep selected columns\n",
    "ecol = 'Level (cm-1)'\n",
    "cols = ['Configuration', 'Term', 'J', ecol]\n",
    "dfexpt = dfexpt[cols]"
   ]
  },
  {
   "cell_type": "code",
   "execution_count": null,
   "metadata": {},
   "outputs": [],
   "source": [
    "# Remove spaces from numbers and convert to float\n",
    "for irow, estr in enumerate(dfexpt[ecol]):\n",
    "    try:\n",
    "        estr = str(estr)  # in case it has already been converted to a number\n",
    "        e = float(re.sub('\\s', '', estr.strip()))\n",
    "    except ValueError:\n",
    "        # energy might have \"?\" or other qualifier; replace with Nan\n",
    "        print(f'** removing non-numeric energy value \"{estr}\"')\n",
    "        e = np.nan\n",
    "    dfexpt.at[irow, ecol] = e"
   ]
  },
  {
   "cell_type": "code",
   "execution_count": null,
   "metadata": {},
   "outputs": [],
   "source": [
    "# Discard rows that lack energies\n",
    "dfexpt = dfexpt[dfexpt[ecol].notna()]\n",
    "# Re-index to make continuous\n",
    "dfexpt = dfexpt.reset_index(drop=True)\n",
    "display(dfexpt)"
   ]
  },
  {
   "cell_type": "code",
   "execution_count": null,
   "metadata": {},
   "outputs": [],
   "source": [
    "# Where Configuration or Term is NaN, replace it with value from preceding row\n",
    "for i, row in dfexpt.iterrows():\n",
    "    for col in ['Configuration', 'Term']:\n",
    "        if str(row[col]).lower() == 'nan':\n",
    "            dfexpt.loc[i, col] = dfexpt.loc[i-1, col]"
   ]
  },
  {
   "cell_type": "code",
   "execution_count": null,
   "metadata": {},
   "outputs": [],
   "source": [
    "display(dfexpt)"
   ]
  },
  {
   "cell_type": "code",
   "execution_count": null,
   "metadata": {},
   "outputs": [],
   "source": [
    "# Save to Excel file\n",
    "atomlbl = atom + '_' + 'I' * (charge + 1)\n",
    "fxl = atomlbl + '_exptl_levels.xlsx'\n",
    "# Uncomment the following two lines to put the file somewhere else\n",
    "fdir = r'C:\\Users\\irikura\\OneDrive - NIST\\Karl\\atomic_SOC\\calculations\\\\' + atomlbl\n",
    "fxl = os.sep.join([fdir, fxl])\n",
    "\n",
    "if os.path.isfile(fxl):\n",
    "    print(f'File {fxl} already exists!')\n",
    "else:\n",
    "    dfexpt.to_excel(fxl, index=False)\n",
    "    print(f'Data saved to file {fxl}')\n",
    "    print(f'in folder {fdir}')"
   ]
  },
  {
   "cell_type": "code",
   "execution_count": null,
   "metadata": {},
   "outputs": [],
   "source": [
    "# Get naive value of SOC for low terms\n",
    "import chem_subs as chem\n",
    "\n",
    "print(f'Naive values of E_so for low terms of {atom}')\n",
    "ecol = 'Level (cm-1)'\n",
    "configs = []\n",
    "terms = []\n",
    "dflow = dfexpt[dfexpt[ecol] < 10000]  # below 10,000 cm-1\n",
    "for c, t in zip(dflow.Configuration, dflow.Term):\n",
    "    if (t not in terms) or (c not in configs):\n",
    "        terms.append(t)\n",
    "        configs.append(c)\n",
    "for term, config in zip(terms, configs):\n",
    "    S, L = chem.SL_from_term(term)\n",
    "    mult = (2*S + 1) * (2*L + 1)\n",
    "    subdf = dfexpt[(dfexpt.Term == term) & (dfexpt.Configuration == config)].copy()\n",
    "    subdf['g'] = 2 * subdf['J'].apply(chem.halves_to_float) + 1\n",
    "    if subdf.g.sum() != mult:\n",
    "        print(f'*** Total multiplicity should be {mult} but levels provide {subdf.g.sum()}')\n",
    "    else:\n",
    "        SOC = -1 * np.dot(subdf[ecol], subdf.g) / mult\n",
    "        print(f'E_so({term}) = {SOC:.2f} cm-1 from eq. (1)')\n",
    "    #display(subdf)"
   ]
  },
  {
   "cell_type": "code",
   "execution_count": null,
   "metadata": {},
   "outputs": [],
   "source": []
  },
  {
   "cell_type": "code",
   "execution_count": null,
   "metadata": {},
   "outputs": [],
   "source": []
  }
 ],
 "metadata": {
  "kernelspec": {
   "display_name": "Python 3 (ipykernel)",
   "language": "python",
   "name": "python3"
  },
  "language_info": {
   "codemirror_mode": {
    "name": "ipython",
    "version": 3
   },
   "file_extension": ".py",
   "mimetype": "text/x-python",
   "name": "python",
   "nbconvert_exporter": "python",
   "pygments_lexer": "ipython3",
   "version": "3.11.4"
  }
 },
 "nbformat": 4,
 "nbformat_minor": 2
}
