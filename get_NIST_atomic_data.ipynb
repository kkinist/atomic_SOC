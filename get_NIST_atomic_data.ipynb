{
 "cells": [
  {
   "cell_type": "markdown",
   "metadata": {},
   "source": [
    "## Extract and save experimental atomic energy levels"
   ]
  },
  {
   "cell_type": "code",
   "execution_count": 1,
   "metadata": {},
   "outputs": [],
   "source": [
    "import pandas as pd\n",
    "import numpy as np\n",
    "import os, re"
   ]
  },
  {
   "cell_type": "code",
   "execution_count": 2,
   "metadata": {},
   "outputs": [],
   "source": [
    "# Specify the atom and the charge state\n",
    "atom = 'Co'\n",
    "charge = 0"
   ]
  },
  {
   "cell_type": "code",
   "execution_count": 3,
   "metadata": {},
   "outputs": [],
   "source": [
    "astr = atom + '+' + 'i' * (charge + 1)\n",
    "url = f'https://physics.nist.gov/cgi-bin/ASD/energy1.pl?de=0&spectrum={astr}&submit=Retrieve+Data&units=0&format=0&output=0&page_size=15&multiplet_ordered=0&conf_out=on&term_out=on&level_out=on&unc_out=1&j_out=on&lande_out=on&perc_out=on&biblio=on&temp='"
   ]
  },
  {
   "cell_type": "code",
   "execution_count": 4,
   "metadata": {},
   "outputs": [],
   "source": [
    "# Read all the tables\n",
    "dfs = pd.read_html(url, header=0)"
   ]
  },
  {
   "cell_type": "code",
   "execution_count": 5,
   "metadata": {},
   "outputs": [],
   "source": [
    "# Select the table that contains spectroscopic data\n",
    "for df in dfs:\n",
    "    if 'Configuration' in df.columns:\n",
    "        dfexpt = df"
   ]
  },
  {
   "cell_type": "code",
   "execution_count": 6,
   "metadata": {},
   "outputs": [],
   "source": [
    "# Keep selected columns\n",
    "ecol = 'Level (cm-1)'\n",
    "cols = ['Configuration', 'Term', 'J', ecol]\n",
    "dfexpt = dfexpt[cols]"
   ]
  },
  {
   "cell_type": "code",
   "execution_count": 7,
   "metadata": {},
   "outputs": [
    {
     "name": "stdout",
     "output_type": "stream",
     "text": [
      "** removing non-numeric energy value \"43 952.06?\"\n",
      "** removing non-numeric energy value \"44 381.32?\"\n",
      "** removing non-numeric energy value \"48 615.56?\"\n",
      "** removing non-numeric energy value \"48 851.58?\"\n",
      "** removing non-numeric energy value \"49 197.74?\"\n",
      "** removing non-numeric energy value \"52 264.01?\"\n",
      "** removing non-numeric energy value \"52 915.92?\"\n",
      "** removing non-numeric energy value \"52 264.49?\"\n",
      "** removing non-numeric energy value \"52 702.76?\"\n",
      "** removing non-numeric energy value \"51 989.31?\"\n",
      "** removing non-numeric energy value \"53 694.57?\"\n",
      "** removing non-numeric energy value \"54 258.75?\"\n",
      "** removing non-numeric energy value \"55 165.63?\"\n",
      "** removing non-numeric energy value \"55 577.28?\"\n",
      "** removing non-numeric energy value \"54 282.73?\"\n",
      "** removing non-numeric energy value \"55 407.10?\"\n",
      "** removing non-numeric energy value \"53 728.36?\"\n",
      "** removing non-numeric energy value \"54 989.62?\"\n",
      "** removing non-numeric energy value \"55 314.04?\"\n",
      "** removing non-numeric energy value \"55 120.30?\"\n",
      "** removing non-numeric energy value \"55 387.11?\"\n",
      "** removing non-numeric energy value \"56 545.51?\"\n",
      "** removing non-numeric energy value \"59 314.82?\"\n"
     ]
    }
   ],
   "source": [
    "# Remove spaces from numbers and convert to float\n",
    "for irow, estr in enumerate(dfexpt[ecol]):\n",
    "    try:\n",
    "        estr = str(estr)  # in case it has already been converted to a number\n",
    "        e = float(re.sub('\\s', '', estr.strip()))\n",
    "    except ValueError:\n",
    "        # energy might have \"?\" or other qualifier; replace with Nan\n",
    "        print(f'** removing non-numeric energy value \"{estr}\"')\n",
    "        e = np.nan\n",
    "    dfexpt.at[irow, ecol] = e"
   ]
  },
  {
   "cell_type": "code",
   "execution_count": 8,
   "metadata": {},
   "outputs": [
    {
     "data": {
      "text/html": [
       "<div>\n",
       "<style scoped>\n",
       "    .dataframe tbody tr th:only-of-type {\n",
       "        vertical-align: middle;\n",
       "    }\n",
       "\n",
       "    .dataframe tbody tr th {\n",
       "        vertical-align: top;\n",
       "    }\n",
       "\n",
       "    .dataframe thead th {\n",
       "        text-align: right;\n",
       "    }\n",
       "</style>\n",
       "<table border=\"1\" class=\"dataframe\">\n",
       "  <thead>\n",
       "    <tr style=\"text-align: right;\">\n",
       "      <th></th>\n",
       "      <th>Configuration</th>\n",
       "      <th>Term</th>\n",
       "      <th>J</th>\n",
       "      <th>Level (cm-1)</th>\n",
       "    </tr>\n",
       "  </thead>\n",
       "  <tbody>\n",
       "    <tr>\n",
       "      <th>0</th>\n",
       "      <td>3p63d74s2</td>\n",
       "      <td>a 4F</td>\n",
       "      <td>9/2</td>\n",
       "      <td>0.0</td>\n",
       "    </tr>\n",
       "    <tr>\n",
       "      <th>1</th>\n",
       "      <td>NaN</td>\n",
       "      <td>NaN</td>\n",
       "      <td>7/2</td>\n",
       "      <td>816.0</td>\n",
       "    </tr>\n",
       "    <tr>\n",
       "      <th>2</th>\n",
       "      <td>NaN</td>\n",
       "      <td>NaN</td>\n",
       "      <td>5/2</td>\n",
       "      <td>1406.84</td>\n",
       "    </tr>\n",
       "    <tr>\n",
       "      <th>3</th>\n",
       "      <td>NaN</td>\n",
       "      <td>NaN</td>\n",
       "      <td>3/2</td>\n",
       "      <td>1809.33</td>\n",
       "    </tr>\n",
       "    <tr>\n",
       "      <th>4</th>\n",
       "      <td>3p63d8(3F)4s</td>\n",
       "      <td>b 4F</td>\n",
       "      <td>9/2</td>\n",
       "      <td>3482.82</td>\n",
       "    </tr>\n",
       "    <tr>\n",
       "      <th>...</th>\n",
       "      <td>...</td>\n",
       "      <td>...</td>\n",
       "      <td>...</td>\n",
       "      <td>...</td>\n",
       "    </tr>\n",
       "    <tr>\n",
       "      <th>302</th>\n",
       "      <td>NaN</td>\n",
       "      <td>36°</td>\n",
       "      <td>7/2</td>\n",
       "      <td>58187.39</td>\n",
       "    </tr>\n",
       "    <tr>\n",
       "      <th>303</th>\n",
       "      <td>NaN</td>\n",
       "      <td>NaN</td>\n",
       "      <td>9/2</td>\n",
       "      <td>58187.39</td>\n",
       "    </tr>\n",
       "    <tr>\n",
       "      <th>304</th>\n",
       "      <td>NaN</td>\n",
       "      <td>37°</td>\n",
       "      <td>5/2</td>\n",
       "      <td>59388.89</td>\n",
       "    </tr>\n",
       "    <tr>\n",
       "      <th>305</th>\n",
       "      <td>NaN</td>\n",
       "      <td>NaN</td>\n",
       "      <td>7/2</td>\n",
       "      <td>59388.89</td>\n",
       "    </tr>\n",
       "    <tr>\n",
       "      <th>306</th>\n",
       "      <td>Co II (3d8 3F4)</td>\n",
       "      <td>Limit</td>\n",
       "      <td>---</td>\n",
       "      <td>63564.6</td>\n",
       "    </tr>\n",
       "  </tbody>\n",
       "</table>\n",
       "<p>307 rows × 4 columns</p>\n",
       "</div>"
      ],
      "text/plain": [
       "       Configuration   Term    J Level (cm-1)\n",
       "0          3p63d74s2   a 4F  9/2          0.0\n",
       "1                NaN    NaN  7/2        816.0\n",
       "2                NaN    NaN  5/2      1406.84\n",
       "3                NaN    NaN  3/2      1809.33\n",
       "4       3p63d8(3F)4s   b 4F  9/2      3482.82\n",
       "..               ...    ...  ...          ...\n",
       "302              NaN    36°  7/2     58187.39\n",
       "303              NaN    NaN  9/2     58187.39\n",
       "304              NaN    37°  5/2     59388.89\n",
       "305              NaN    NaN  7/2     59388.89\n",
       "306  Co II (3d8 3F4)  Limit  ---      63564.6\n",
       "\n",
       "[307 rows x 4 columns]"
      ]
     },
     "metadata": {},
     "output_type": "display_data"
    }
   ],
   "source": [
    "# Discard rows that lack energies\n",
    "dfexpt = dfexpt[dfexpt[ecol].notna()]\n",
    "# Re-index to make continuous\n",
    "dfexpt = dfexpt.reset_index(drop=True)\n",
    "display(dfexpt)"
   ]
  },
  {
   "cell_type": "code",
   "execution_count": 9,
   "metadata": {},
   "outputs": [],
   "source": [
    "# Where Configuration or Term is NaN, replace it with value from preceding row\n",
    "for i, row in dfexpt.iterrows():\n",
    "    for col in ['Configuration', 'Term']:\n",
    "        if str(row[col]).lower() == 'nan':\n",
    "            dfexpt.loc[i, col] = dfexpt.loc[i-1, col]"
   ]
  },
  {
   "cell_type": "code",
   "execution_count": 10,
   "metadata": {},
   "outputs": [
    {
     "data": {
      "text/html": [
       "<div>\n",
       "<style scoped>\n",
       "    .dataframe tbody tr th:only-of-type {\n",
       "        vertical-align: middle;\n",
       "    }\n",
       "\n",
       "    .dataframe tbody tr th {\n",
       "        vertical-align: top;\n",
       "    }\n",
       "\n",
       "    .dataframe thead th {\n",
       "        text-align: right;\n",
       "    }\n",
       "</style>\n",
       "<table border=\"1\" class=\"dataframe\">\n",
       "  <thead>\n",
       "    <tr style=\"text-align: right;\">\n",
       "      <th></th>\n",
       "      <th>Configuration</th>\n",
       "      <th>Term</th>\n",
       "      <th>J</th>\n",
       "      <th>Level (cm-1)</th>\n",
       "    </tr>\n",
       "  </thead>\n",
       "  <tbody>\n",
       "    <tr>\n",
       "      <th>0</th>\n",
       "      <td>3p63d74s2</td>\n",
       "      <td>a 4F</td>\n",
       "      <td>9/2</td>\n",
       "      <td>0.0</td>\n",
       "    </tr>\n",
       "    <tr>\n",
       "      <th>1</th>\n",
       "      <td>3p63d74s2</td>\n",
       "      <td>a 4F</td>\n",
       "      <td>7/2</td>\n",
       "      <td>816.0</td>\n",
       "    </tr>\n",
       "    <tr>\n",
       "      <th>2</th>\n",
       "      <td>3p63d74s2</td>\n",
       "      <td>a 4F</td>\n",
       "      <td>5/2</td>\n",
       "      <td>1406.84</td>\n",
       "    </tr>\n",
       "    <tr>\n",
       "      <th>3</th>\n",
       "      <td>3p63d74s2</td>\n",
       "      <td>a 4F</td>\n",
       "      <td>3/2</td>\n",
       "      <td>1809.33</td>\n",
       "    </tr>\n",
       "    <tr>\n",
       "      <th>4</th>\n",
       "      <td>3p63d8(3F)4s</td>\n",
       "      <td>b 4F</td>\n",
       "      <td>9/2</td>\n",
       "      <td>3482.82</td>\n",
       "    </tr>\n",
       "    <tr>\n",
       "      <th>...</th>\n",
       "      <td>...</td>\n",
       "      <td>...</td>\n",
       "      <td>...</td>\n",
       "      <td>...</td>\n",
       "    </tr>\n",
       "    <tr>\n",
       "      <th>302</th>\n",
       "      <td>3p63d7(a 2D)4s4p(3P°)</td>\n",
       "      <td>36°</td>\n",
       "      <td>7/2</td>\n",
       "      <td>58187.39</td>\n",
       "    </tr>\n",
       "    <tr>\n",
       "      <th>303</th>\n",
       "      <td>3p63d7(a 2D)4s4p(3P°)</td>\n",
       "      <td>36°</td>\n",
       "      <td>9/2</td>\n",
       "      <td>58187.39</td>\n",
       "    </tr>\n",
       "    <tr>\n",
       "      <th>304</th>\n",
       "      <td>3p63d7(a 2D)4s4p(3P°)</td>\n",
       "      <td>37°</td>\n",
       "      <td>5/2</td>\n",
       "      <td>59388.89</td>\n",
       "    </tr>\n",
       "    <tr>\n",
       "      <th>305</th>\n",
       "      <td>3p63d7(a 2D)4s4p(3P°)</td>\n",
       "      <td>37°</td>\n",
       "      <td>7/2</td>\n",
       "      <td>59388.89</td>\n",
       "    </tr>\n",
       "    <tr>\n",
       "      <th>306</th>\n",
       "      <td>Co II (3d8 3F4)</td>\n",
       "      <td>Limit</td>\n",
       "      <td>---</td>\n",
       "      <td>63564.6</td>\n",
       "    </tr>\n",
       "  </tbody>\n",
       "</table>\n",
       "<p>307 rows × 4 columns</p>\n",
       "</div>"
      ],
      "text/plain": [
       "             Configuration   Term    J Level (cm-1)\n",
       "0                3p63d74s2   a 4F  9/2          0.0\n",
       "1                3p63d74s2   a 4F  7/2        816.0\n",
       "2                3p63d74s2   a 4F  5/2      1406.84\n",
       "3                3p63d74s2   a 4F  3/2      1809.33\n",
       "4             3p63d8(3F)4s   b 4F  9/2      3482.82\n",
       "..                     ...    ...  ...          ...\n",
       "302  3p63d7(a 2D)4s4p(3P°)    36°  7/2     58187.39\n",
       "303  3p63d7(a 2D)4s4p(3P°)    36°  9/2     58187.39\n",
       "304  3p63d7(a 2D)4s4p(3P°)    37°  5/2     59388.89\n",
       "305  3p63d7(a 2D)4s4p(3P°)    37°  7/2     59388.89\n",
       "306        Co II (3d8 3F4)  Limit  ---      63564.6\n",
       "\n",
       "[307 rows x 4 columns]"
      ]
     },
     "metadata": {},
     "output_type": "display_data"
    }
   ],
   "source": [
    "display(dfexpt)"
   ]
  },
  {
   "cell_type": "code",
   "execution_count": 11,
   "metadata": {},
   "outputs": [
    {
     "name": "stdout",
     "output_type": "stream",
     "text": [
      "Data saved to file Co_I_exptl_levels.xlsx\n"
     ]
    }
   ],
   "source": [
    "# Save to Excel file\n",
    "fxl = atom + '_' + 'I' * (charge + 1) + '_exptl_levels.xlsx'\n",
    "if os.path.isfile(fxl):\n",
    "    print(f'File {fxl} already exists!')\n",
    "else:\n",
    "    dfexpt.to_excel(fxl, index=False)\n",
    "    print(f'Data saved to file {fxl}')"
   ]
  },
  {
   "cell_type": "code",
   "execution_count": null,
   "metadata": {},
   "outputs": [],
   "source": []
  }
 ],
 "metadata": {
  "kernelspec": {
   "display_name": "Python 3 (ipykernel)",
   "language": "python",
   "name": "python3"
  },
  "language_info": {
   "codemirror_mode": {
    "name": "ipython",
    "version": 3
   },
   "file_extension": ".py",
   "mimetype": "text/x-python",
   "name": "python",
   "nbconvert_exporter": "python",
   "pygments_lexer": "ipython3",
   "version": "3.11.4"
  }
 },
 "nbformat": 4,
 "nbformat_minor": 2
}
