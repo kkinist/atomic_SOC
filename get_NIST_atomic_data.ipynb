{
 "cells": [
  {
   "cell_type": "markdown",
   "metadata": {},
   "source": [
    "## Extract and save experimental atomic energy levels"
   ]
  },
  {
   "cell_type": "code",
   "execution_count": 1,
   "metadata": {},
   "outputs": [],
   "source": [
    "import pandas as pd\n",
    "import numpy as np\n",
    "import os, re"
   ]
  },
  {
   "cell_type": "code",
   "execution_count": 2,
   "metadata": {},
   "outputs": [],
   "source": [
    "# Specify the atom and the charge state\n",
    "atom = 'Rh'\n",
    "charge = 0"
   ]
  },
  {
   "cell_type": "code",
   "execution_count": 3,
   "metadata": {},
   "outputs": [],
   "source": [
    "astr = atom + '+' + 'i' * (charge + 1)\n",
    "url = f'https://physics.nist.gov/cgi-bin/ASD/energy1.pl?de=0&spectrum={astr}&submit=Retrieve+Data&units=0&format=0&output=0&page_size=15&multiplet_ordered=0&conf_out=on&term_out=on&level_out=on&unc_out=1&j_out=on&lande_out=on&perc_out=on&biblio=on&temp='"
   ]
  },
  {
   "cell_type": "code",
   "execution_count": 4,
   "metadata": {},
   "outputs": [],
   "source": [
    "# Read all the tables\n",
    "dfs = pd.read_html(url, header=0)"
   ]
  },
  {
   "cell_type": "code",
   "execution_count": 5,
   "metadata": {},
   "outputs": [],
   "source": [
    "# Select the table that contains spectroscopic data\n",
    "for df in dfs:\n",
    "    if 'Configuration' in df.columns:\n",
    "        dfexpt = df"
   ]
  },
  {
   "cell_type": "code",
   "execution_count": 6,
   "metadata": {},
   "outputs": [],
   "source": [
    "# Keep selected columns\n",
    "ecol = 'Level (cm-1)'\n",
    "cols = ['Configuration', 'Term', 'J', ecol]\n",
    "dfexpt = dfexpt[cols]"
   ]
  },
  {
   "cell_type": "code",
   "execution_count": 7,
   "metadata": {},
   "outputs": [],
   "source": [
    "# Remove spaces from numbers and convert to float\n",
    "for irow, estr in enumerate(dfexpt[ecol]):\n",
    "    try:\n",
    "        estr = str(estr)  # in case it has already been converted to a number\n",
    "        e = float(re.sub('\\s', '', estr.strip()))\n",
    "    except ValueError:\n",
    "        # energy might have \"?\" or other qualifier; replace with Nan\n",
    "        print(f'** removing non-numeric energy value \"{estr}\"')\n",
    "        e = np.nan\n",
    "    dfexpt.at[irow, ecol] = e"
   ]
  },
  {
   "cell_type": "code",
   "execution_count": 8,
   "metadata": {},
   "outputs": [
    {
     "data": {
      "text/html": [
       "<div>\n",
       "<style scoped>\n",
       "    .dataframe tbody tr th:only-of-type {\n",
       "        vertical-align: middle;\n",
       "    }\n",
       "\n",
       "    .dataframe tbody tr th {\n",
       "        vertical-align: top;\n",
       "    }\n",
       "\n",
       "    .dataframe thead th {\n",
       "        text-align: right;\n",
       "    }\n",
       "</style>\n",
       "<table border=\"1\" class=\"dataframe\">\n",
       "  <thead>\n",
       "    <tr style=\"text-align: right;\">\n",
       "      <th></th>\n",
       "      <th>Configuration</th>\n",
       "      <th>Term</th>\n",
       "      <th>J</th>\n",
       "      <th>Level (cm-1)</th>\n",
       "    </tr>\n",
       "  </thead>\n",
       "  <tbody>\n",
       "    <tr>\n",
       "      <th>0</th>\n",
       "      <td>4d8(3F)5s</td>\n",
       "      <td>a 4F</td>\n",
       "      <td>9/2</td>\n",
       "      <td>0.0</td>\n",
       "    </tr>\n",
       "    <tr>\n",
       "      <th>1</th>\n",
       "      <td>NaN</td>\n",
       "      <td>NaN</td>\n",
       "      <td>7/2</td>\n",
       "      <td>1529.97</td>\n",
       "    </tr>\n",
       "    <tr>\n",
       "      <th>2</th>\n",
       "      <td>NaN</td>\n",
       "      <td>NaN</td>\n",
       "      <td>5/2</td>\n",
       "      <td>2598.03</td>\n",
       "    </tr>\n",
       "    <tr>\n",
       "      <th>3</th>\n",
       "      <td>NaN</td>\n",
       "      <td>NaN</td>\n",
       "      <td>3/2</td>\n",
       "      <td>3472.68</td>\n",
       "    </tr>\n",
       "    <tr>\n",
       "      <th>4</th>\n",
       "      <td>4d9</td>\n",
       "      <td>a 2D</td>\n",
       "      <td>5/2</td>\n",
       "      <td>3309.86</td>\n",
       "    </tr>\n",
       "    <tr>\n",
       "      <th>...</th>\n",
       "      <td>...</td>\n",
       "      <td>...</td>\n",
       "      <td>...</td>\n",
       "      <td>...</td>\n",
       "    </tr>\n",
       "    <tr>\n",
       "      <th>131</th>\n",
       "      <td>NaN</td>\n",
       "      <td>26</td>\n",
       "      <td>1/2,3/2</td>\n",
       "      <td>52473.55</td>\n",
       "    </tr>\n",
       "    <tr>\n",
       "      <th>132</th>\n",
       "      <td>NaN</td>\n",
       "      <td>32°</td>\n",
       "      <td>3/2,5/2</td>\n",
       "      <td>53599.28</td>\n",
       "    </tr>\n",
       "    <tr>\n",
       "      <th>133</th>\n",
       "      <td>NaN</td>\n",
       "      <td>27</td>\n",
       "      <td>3/2</td>\n",
       "      <td>56087.6</td>\n",
       "    </tr>\n",
       "    <tr>\n",
       "      <th>134</th>\n",
       "      <td>NaN</td>\n",
       "      <td>28</td>\n",
       "      <td>3/2,5/2</td>\n",
       "      <td>57610.48</td>\n",
       "    </tr>\n",
       "    <tr>\n",
       "      <th>135</th>\n",
       "      <td>Rh II (4d8 3F4)</td>\n",
       "      <td>Limit</td>\n",
       "      <td>---</td>\n",
       "      <td>60160.1</td>\n",
       "    </tr>\n",
       "  </tbody>\n",
       "</table>\n",
       "<p>136 rows × 4 columns</p>\n",
       "</div>"
      ],
      "text/plain": [
       "       Configuration   Term        J Level (cm-1)\n",
       "0          4d8(3F)5s   a 4F      9/2          0.0\n",
       "1                NaN    NaN      7/2      1529.97\n",
       "2                NaN    NaN      5/2      2598.03\n",
       "3                NaN    NaN      3/2      3472.68\n",
       "4                4d9   a 2D      5/2      3309.86\n",
       "..               ...    ...      ...          ...\n",
       "131              NaN     26  1/2,3/2     52473.55\n",
       "132              NaN    32°  3/2,5/2     53599.28\n",
       "133              NaN     27      3/2      56087.6\n",
       "134              NaN     28  3/2,5/2     57610.48\n",
       "135  Rh II (4d8 3F4)  Limit      ---      60160.1\n",
       "\n",
       "[136 rows x 4 columns]"
      ]
     },
     "metadata": {},
     "output_type": "display_data"
    }
   ],
   "source": [
    "# Discard rows that lack energies\n",
    "dfexpt = dfexpt[dfexpt[ecol].notna()]\n",
    "# Re-index to make continuous\n",
    "dfexpt = dfexpt.reset_index(drop=True)\n",
    "display(dfexpt)"
   ]
  },
  {
   "cell_type": "code",
   "execution_count": 9,
   "metadata": {},
   "outputs": [],
   "source": [
    "# Where Configuration or Term is NaN, replace it with value from preceding row\n",
    "for i, row in dfexpt.iterrows():\n",
    "    for col in ['Configuration', 'Term']:\n",
    "        if str(row[col]).lower() == 'nan':\n",
    "            dfexpt.loc[i, col] = dfexpt.loc[i-1, col]"
   ]
  },
  {
   "cell_type": "code",
   "execution_count": 10,
   "metadata": {},
   "outputs": [
    {
     "data": {
      "text/html": [
       "<div>\n",
       "<style scoped>\n",
       "    .dataframe tbody tr th:only-of-type {\n",
       "        vertical-align: middle;\n",
       "    }\n",
       "\n",
       "    .dataframe tbody tr th {\n",
       "        vertical-align: top;\n",
       "    }\n",
       "\n",
       "    .dataframe thead th {\n",
       "        text-align: right;\n",
       "    }\n",
       "</style>\n",
       "<table border=\"1\" class=\"dataframe\">\n",
       "  <thead>\n",
       "    <tr style=\"text-align: right;\">\n",
       "      <th></th>\n",
       "      <th>Configuration</th>\n",
       "      <th>Term</th>\n",
       "      <th>J</th>\n",
       "      <th>Level (cm-1)</th>\n",
       "    </tr>\n",
       "  </thead>\n",
       "  <tbody>\n",
       "    <tr>\n",
       "      <th>0</th>\n",
       "      <td>4d8(3F)5s</td>\n",
       "      <td>a 4F</td>\n",
       "      <td>9/2</td>\n",
       "      <td>0.0</td>\n",
       "    </tr>\n",
       "    <tr>\n",
       "      <th>1</th>\n",
       "      <td>4d8(3F)5s</td>\n",
       "      <td>a 4F</td>\n",
       "      <td>7/2</td>\n",
       "      <td>1529.97</td>\n",
       "    </tr>\n",
       "    <tr>\n",
       "      <th>2</th>\n",
       "      <td>4d8(3F)5s</td>\n",
       "      <td>a 4F</td>\n",
       "      <td>5/2</td>\n",
       "      <td>2598.03</td>\n",
       "    </tr>\n",
       "    <tr>\n",
       "      <th>3</th>\n",
       "      <td>4d8(3F)5s</td>\n",
       "      <td>a 4F</td>\n",
       "      <td>3/2</td>\n",
       "      <td>3472.68</td>\n",
       "    </tr>\n",
       "    <tr>\n",
       "      <th>4</th>\n",
       "      <td>4d9</td>\n",
       "      <td>a 2D</td>\n",
       "      <td>5/2</td>\n",
       "      <td>3309.86</td>\n",
       "    </tr>\n",
       "    <tr>\n",
       "      <th>...</th>\n",
       "      <td>...</td>\n",
       "      <td>...</td>\n",
       "      <td>...</td>\n",
       "      <td>...</td>\n",
       "    </tr>\n",
       "    <tr>\n",
       "      <th>131</th>\n",
       "      <td>4d8(1G)5p</td>\n",
       "      <td>26</td>\n",
       "      <td>1/2,3/2</td>\n",
       "      <td>52473.55</td>\n",
       "    </tr>\n",
       "    <tr>\n",
       "      <th>132</th>\n",
       "      <td>4d8(1G)5p</td>\n",
       "      <td>32°</td>\n",
       "      <td>3/2,5/2</td>\n",
       "      <td>53599.28</td>\n",
       "    </tr>\n",
       "    <tr>\n",
       "      <th>133</th>\n",
       "      <td>4d8(1G)5p</td>\n",
       "      <td>27</td>\n",
       "      <td>3/2</td>\n",
       "      <td>56087.6</td>\n",
       "    </tr>\n",
       "    <tr>\n",
       "      <th>134</th>\n",
       "      <td>4d8(1G)5p</td>\n",
       "      <td>28</td>\n",
       "      <td>3/2,5/2</td>\n",
       "      <td>57610.48</td>\n",
       "    </tr>\n",
       "    <tr>\n",
       "      <th>135</th>\n",
       "      <td>Rh II (4d8 3F4)</td>\n",
       "      <td>Limit</td>\n",
       "      <td>---</td>\n",
       "      <td>60160.1</td>\n",
       "    </tr>\n",
       "  </tbody>\n",
       "</table>\n",
       "<p>136 rows × 4 columns</p>\n",
       "</div>"
      ],
      "text/plain": [
       "       Configuration   Term        J Level (cm-1)\n",
       "0          4d8(3F)5s   a 4F      9/2          0.0\n",
       "1          4d8(3F)5s   a 4F      7/2      1529.97\n",
       "2          4d8(3F)5s   a 4F      5/2      2598.03\n",
       "3          4d8(3F)5s   a 4F      3/2      3472.68\n",
       "4                4d9   a 2D      5/2      3309.86\n",
       "..               ...    ...      ...          ...\n",
       "131        4d8(1G)5p     26  1/2,3/2     52473.55\n",
       "132        4d8(1G)5p    32°  3/2,5/2     53599.28\n",
       "133        4d8(1G)5p     27      3/2      56087.6\n",
       "134        4d8(1G)5p     28  3/2,5/2     57610.48\n",
       "135  Rh II (4d8 3F4)  Limit      ---      60160.1\n",
       "\n",
       "[136 rows x 4 columns]"
      ]
     },
     "metadata": {},
     "output_type": "display_data"
    }
   ],
   "source": [
    "display(dfexpt)"
   ]
  },
  {
   "cell_type": "code",
   "execution_count": 11,
   "metadata": {},
   "outputs": [
    {
     "name": "stdout",
     "output_type": "stream",
     "text": [
      "Data saved to file Rh_I_exptl_levels.xlsx\n"
     ]
    }
   ],
   "source": [
    "# Save to Excel file\n",
    "fxl = atom + '_' + 'I' * (charge + 1) + '_exptl_levels.xlsx'\n",
    "if os.path.isfile(fxl):\n",
    "    print(f'File {fxl} already exists!')\n",
    "else:\n",
    "    dfexpt.to_excel(fxl, index=False)\n",
    "    print(f'Data saved to file {fxl}')"
   ]
  },
  {
   "cell_type": "code",
   "execution_count": 26,
   "metadata": {},
   "outputs": [
    {
     "name": "stdout",
     "output_type": "stream",
     "text": [
      "Naive values of E_so for low terms of Rh\n",
      "E_so(a 4F) = -1490.0 cm-1 from eq. (1)\n",
      "E_so(a 2D) = -4249.1 cm-1 from eq. (1)\n",
      "E_so(a 2F) = -6591.1 cm-1 from eq. (1)\n"
     ]
    }
   ],
   "source": [
    "# Get naive value of SOC for low terms\n",
    "import chem_subs as chem\n",
    "\n",
    "print(f'Naive values of E_so for low terms of {atom}')\n",
    "ecol = 'Level (cm-1)'\n",
    "terms = []\n",
    "for t in dfexpt.Term:\n",
    "    if t not in terms:\n",
    "        terms.append(t)\n",
    "for term in terms[:3]:\n",
    "    S, L = chem.SL_from_term(term)\n",
    "    mult = (2*S + 1) * (2*L + 1)\n",
    "    subdf = dfexpt[dfexpt.Term == term].copy()\n",
    "    subdf['g'] = 2 * subdf['J'].apply(chem.halves_to_float) + 1\n",
    "    if subdf.g.sum() != mult:\n",
    "        print(f'*** Total multiplicity should be {mult} but levels provide {subdf.g.sum()}')\n",
    "    else:\n",
    "        SOC = -1 * np.dot(subdf[ecol], subdf.g) / mult\n",
    "        print(f'E_so({term}) = {SOC:.1f} cm-1 from eq. (1)')\n",
    "    #display(subdf)"
   ]
  },
  {
   "cell_type": "code",
   "execution_count": null,
   "metadata": {},
   "outputs": [],
   "source": []
  },
  {
   "cell_type": "code",
   "execution_count": null,
   "metadata": {},
   "outputs": [],
   "source": []
  }
 ],
 "metadata": {
  "kernelspec": {
   "display_name": "Python 3 (ipykernel)",
   "language": "python",
   "name": "python3"
  },
  "language_info": {
   "codemirror_mode": {
    "name": "ipython",
    "version": 3
   },
   "file_extension": ".py",
   "mimetype": "text/x-python",
   "name": "python",
   "nbconvert_exporter": "python",
   "pygments_lexer": "ipython3",
   "version": "3.11.4"
  }
 },
 "nbformat": 4,
 "nbformat_minor": 2
}
