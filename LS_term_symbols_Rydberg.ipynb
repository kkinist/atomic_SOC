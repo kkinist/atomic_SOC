{
 "cells": [
  {
   "cell_type": "markdown",
   "metadata": {},
   "source": [
    "## Determine LS atomic term symbol for specified orbital occupation"
   ]
  },
  {
   "cell_type": "code",
   "execution_count": 2,
   "metadata": {},
   "outputs": [],
   "source": [
    "# No principal quantum number included\n",
    "# KKI 8/13/2018\n",
    "# Add tabular export 5/31/2024\n",
    "# For (single) Rydberg states 7/25/2024\n",
    "import numpy"
   ]
  },
  {
   "cell_type": "code",
   "execution_count": 3,
   "metadata": {},
   "outputs": [],
   "source": [
    "# enter the number of valence electrons in each orbital type (spdf)\n",
    "ns = 2\n",
    "np = 3\n",
    "nd = 0\n",
    "nf = 0\n",
    "lRy = 1  # value of L for Rydberg electron (n does not matter)"
   ]
  },
  {
   "cell_type": "code",
   "execution_count": 4,
   "metadata": {},
   "outputs": [],
   "source": [
    "occ = [ns, np, nd, nf]\n",
    "orbstr = ['s', 'p', 'd', 'f']\n",
    "Lstr = ['S', 'P', 'D', 'F', 'G', 'H', 'I', 'K', 'L', 'M', 'N']\n",
    "maxl = len(orbstr) - 1\n",
    "maxL = len(Lstr) - 1"
   ]
  },
  {
   "cell_type": "code",
   "execution_count": 5,
   "metadata": {},
   "outputs": [
    {
     "name": "stdout",
     "output_type": "stream",
     "text": [
      "5 valence electrons\n",
      "Orbital occupation: s2p3 + Ry(p)\n"
     ]
    }
   ],
   "source": [
    "occstr = ''\n",
    "for j in range(len(orbstr)):\n",
    "    if occ[j] > 0:\n",
    "        occstr += '{:s}{:d}'.format(orbstr[j], occ[j])\n",
    "        if occ[j] > 2 * (2*j+1):\n",
    "            print(\"You can't put {:d} electrons into the {:s} shell\".format(occ[j], orbstr[j]))\n",
    "            xit = 1/0\n",
    "nelec = sum(occ)\n",
    "fRy = orbstr[lRy]\n",
    "print('{:d} valence electrons'.format(nelec))\n",
    "print('Orbital occupation: {:s} + Ry({:s})'.format(occstr, fRy))"
   ]
  },
  {
   "cell_type": "code",
   "execution_count": 6,
   "metadata": {},
   "outputs": [],
   "source": [
    "def build_occlist(j, nelec, k=0, filled=None):\n",
    "    # make a list of all possible occupation vectors for \n",
    "    # angular momentum = j, # of electrons = nelec\n",
    "    # recursive: 'filled' is an occupation vector for previous electrons\n",
    "    # 'k' is the index of the previous electron; the added electron must\n",
    "    # be added later, i.e., with a higher index\n",
    "    ncol = 2 * (2*j + 1)  # all combinations of spin (+- 1/2) and mj\n",
    "    if nelec == 0:\n",
    "        # no electrons at all\n",
    "        return numpy.zeros(ncol)\n",
    "    #\n",
    "    #print('**', j, nelec, ncol, k, filled)\n",
    "    #\n",
    "    if filled is None:\n",
    "        # no previous electrons\n",
    "        filled = numpy.zeros(ncol)\n",
    "    occlist = []\n",
    "    # must leave room at the end for the other electrons\n",
    "    imax = ncol - (nelec-1)\n",
    "    for i in range(k, imax):\n",
    "        if filled[i] == 0:\n",
    "            # can put an electron here\n",
    "            nplus1 = filled.copy()\n",
    "            nplus1[i] = 1\n",
    "            if nelec == 1:\n",
    "                # this is the last electron\n",
    "                occlist.append(nplus1.copy())\n",
    "            else:\n",
    "                # put the next electron anywhere remaining\n",
    "                newocc = build_occlist(j, nelec-1, k=i+1, filled=nplus1)\n",
    "                #print('nelec={:d}'.format(nelec), newocc)\n",
    "                occlist.extend(newocc)\n",
    "    return numpy.array(occlist)"
   ]
  },
  {
   "cell_type": "code",
   "execution_count": 7,
   "metadata": {},
   "outputs": [],
   "source": [
    "# generate all possible occupation vectors\n",
    "occv = []  # list of arrays\n",
    "for l in range(maxl+1):\n",
    "    occl = build_occlist(l, occ[l])\n",
    "    occv.append(occl)\n",
    "    #print('l = {:d}:\\n'.format(l), occl)"
   ]
  },
  {
   "cell_type": "code",
   "execution_count": 8,
   "metadata": {},
   "outputs": [],
   "source": [
    "# for each l, compute L and S for each occupation vector\n",
    "ms = numpy.array([0.5, -0.5])  # array of ms values; same for all l\n",
    "MLMS = []\n",
    "for l in range(maxl+1):\n",
    "    LSlist = []\n",
    "    nvec = 1\n",
    "    if len(occv[l].shape) == 2:\n",
    "        nvec = occv[l].shape[0]\n",
    "    #print('{:d} vectors for l = {:d}'.format(nvec, l))\n",
    "    # array of ml values\n",
    "    ml = numpy.arange(-l, l+0.1, 1)\n",
    "    # loop over occupation vectors\n",
    "    for irow in range(nvec):\n",
    "        # reshape vector to two rows; top is ms=-1/2\n",
    "        if nvec == 1:\n",
    "            # only one vector\n",
    "            mvec = occv[l].reshape((2,-1))\n",
    "        else:\n",
    "            mvec = occv[l][irow].reshape((2, -1))\n",
    "        ML = numpy.dot(mvec.sum(axis=0), ml)\n",
    "        MS = numpy.dot(mvec.sum(axis=1), ms)\n",
    "        LSlist.append([ML, MS])\n",
    "    MLMS.append(numpy.array(LSlist))"
   ]
  },
  {
   "cell_type": "code",
   "execution_count": 9,
   "metadata": {},
   "outputs": [],
   "source": [
    "# add up all combinations across shells (l values)\n",
    "def MLMSproduct(MLMS, l=None, prev=[]):\n",
    "    # recursive; need all combinations across l values\n",
    "    # args: l = current value of l\n",
    "    #       prev = list of existing (partial) products (ML, MS) pairs\n",
    "    if l is None:\n",
    "        # this is the top level; just call the next l down\n",
    "        l = maxl\n",
    "        prev = MLMS[l]\n",
    "    else:\n",
    "        # combine current list with previous\n",
    "        newlist = []\n",
    "        for pML in prev:\n",
    "            for ML in MLMS[l]:\n",
    "                newlist.append(pML + ML)\n",
    "        prev = numpy.array(newlist)\n",
    "    if l > 0:\n",
    "        # recursive call to next lower l\n",
    "        LStot = MLMSproduct(MLMS, l-1, prev)\n",
    "        return LStot\n",
    "    else:\n",
    "        # this is the bottom (l=0)\n",
    "        return prev"
   ]
  },
  {
   "cell_type": "code",
   "execution_count": 10,
   "metadata": {},
   "outputs": [],
   "source": [
    "# add up all combinations across shells (l values)\n",
    "MLMStot = MLMSproduct(MLMS)\n",
    "nmicro = MLMStot.shape[0]\n",
    "#print('Found {:d} microstates for {:s}'.format(nmicro, occstr))"
   ]
  },
  {
   "cell_type": "code",
   "execution_count": 11,
   "metadata": {},
   "outputs": [],
   "source": [
    "# encode the (ML, MS) pairs as complex numbers\n",
    "cplx = numpy.dot(MLMStot, [1, 1j])"
   ]
  },
  {
   "cell_type": "code",
   "execution_count": 12,
   "metadata": {},
   "outputs": [],
   "source": [
    "def create_symbol(L, S, jvals=True):\n",
    "    # return a (string) term symbol\n",
    "    term = '{:d}{:s}'.format(round(2*S + 1), Lstr[int(L)])\n",
    "    if jvals:\n",
    "        # include parenthetical values of J\n",
    "        minj2 = round(2*abs(L - S))\n",
    "        maxj2 = round(2*(L + S))\n",
    "        jlist = []\n",
    "        isodd = minj2 & 0x1\n",
    "        for j2 in range(maxj2, minj2-1, -2):\n",
    "            if isodd:\n",
    "                jlist.append('{:d}/2'.format(j2))\n",
    "            else:\n",
    "                jlist.append('{:d}'.format(j2//2))\n",
    "        term += '({:s})'.format(','.join(jlist))\n",
    "    return term"
   ]
  },
  {
   "cell_type": "code",
   "execution_count": 13,
   "metadata": {},
   "outputs": [],
   "source": [
    "# assign the states to term symbols\n",
    "maxiter = 100\n",
    "niter = 0\n",
    "ntot = 0  # number of microstates accounted\n",
    "symbols = []\n",
    "Lvals = []  # for terms\n",
    "Svals = []  # for terms\n",
    "while (cplx.shape[0] > 0) and (niter < maxiter):\n",
    "    Smax = cplx.imag.max()\n",
    "    imax = numpy.where(numpy.isclose(cplx.imag, Smax))\n",
    "    Lmax = cplx[imax].real.max()\n",
    "    term = create_symbol(Lmax, Smax, jvals=False)\n",
    "    # delete the (ML, MS) pairs that correspond to this term\n",
    "    compon = []\n",
    "    for ML in numpy.arange(-Lmax, Lmax+0.1, 1):\n",
    "        for MS in numpy.arange(-Smax, Smax+0.1, 1):\n",
    "            compon.append(ML + MS * 1j)\n",
    "    for c in compon:\n",
    "        for ipair in range(cplx.shape[0]):\n",
    "            if numpy.isclose(cplx[ipair], c):\n",
    "                cplx = numpy.delete(cplx, ipair)\n",
    "                break\n",
    "    ntot += (2*Lmax + 1) * (2*Smax + 1)\n",
    "    symbols.append(term)\n",
    "    Lvals.append(int(Lmax))\n",
    "    Svals.append(1 + int(2 * Smax))\n",
    "    niter += 1\n",
    "ntot = round(ntot)\n",
    "#print('Accounted for {:d} of {:d} microstates'.format(ntot, nmicro))\n",
    "if ntot < nmicro:\n",
    "    print('*** {:d} valence microstates are missing! ***'.format(nmicro - ntot))\n",
    "#print('Term symbols for {:s} core:'.format(occstr), '\\n\\t'.join([''] + symbols))"
   ]
  },
  {
   "cell_type": "code",
   "execution_count": 14,
   "metadata": {},
   "outputs": [
    {
     "name": "stdout",
     "output_type": "stream",
     "text": [
      "4S core:\n",
      "   3P(2,1,0)\n",
      "\n",
      "   5P(3,2,1)\n",
      "\n",
      "2D core:\n",
      "   1F(3)\n",
      "   1D(2)\n",
      "   1P(1)\n",
      "\n",
      "   3F(4,3,2)\n",
      "   3D(3,2,1)\n",
      "   3P(2,1,0)\n",
      "\n",
      "2P core:\n",
      "   1D(2)\n",
      "   1P(1)\n",
      "   1S(0)\n",
      "\n",
      "   3D(3,2,1)\n",
      "   3P(2,1,0)\n",
      "   3S(1)\n",
      "\n"
     ]
    }
   ],
   "source": [
    "# Build Rydberg states upon each core term\n",
    "Ryst = []    # term symbols\n",
    "Rycore = []  # core term symbols\n",
    "Slist = set() # total S values\n",
    "Llist = set() # total L values (as symbols)\n",
    "for tcore, Lcore, Score in zip(symbols, Lvals, Svals):\n",
    "    print(f'{tcore} core:')\n",
    "    for ms in [-1, 1]:\n",
    "        stot = Score + ms\n",
    "        if stot < 1:\n",
    "            # invalid spin multiplicity\n",
    "            continue\n",
    "        #print(f'   stot = {stot}')\n",
    "        mlvals = []  # values of M_Lcore + m_lRyd\n",
    "        for mlcore in numpy.arange(-Lcore, Lcore + 1):\n",
    "            for ml in numpy.arange(-lRy, lRy + 1):\n",
    "                mltot = mlcore + ml\n",
    "                mlvals.append(mltot)\n",
    "        #print(f'\\tmlvals = {mlvals}')\n",
    "        # decompose values of ML into Ltot\n",
    "        while len(mlvals):\n",
    "            L = max(mlvals)\n",
    "            for m in numpy.arange(-L, L+1):\n",
    "                mlvals.remove(int(m))\n",
    "            Rycore.append(tcore)\n",
    "            tsym = f'{stot}{Lstr[L]}'  # bare term symbol\n",
    "            Ryst.append(tsym)\n",
    "            jsym = create_symbol(L, (stot-1)/2.)  # term symbol with J values\n",
    "            #print(f'\\t{tsym}\\t{jsym}')\n",
    "            print(f'   {jsym}')\n",
    "            Slist.add(stot)\n",
    "            Llist.add(Lstr[L])\n",
    "        print()"
   ]
  },
  {
   "cell_type": "code",
   "execution_count": 15,
   "metadata": {},
   "outputs": [
    {
     "data": {
      "text/html": [
       "<div>\n",
       "<style scoped>\n",
       "    .dataframe tbody tr th:only-of-type {\n",
       "        vertical-align: middle;\n",
       "    }\n",
       "\n",
       "    .dataframe tbody tr th {\n",
       "        vertical-align: top;\n",
       "    }\n",
       "\n",
       "    .dataframe thead th {\n",
       "        text-align: right;\n",
       "    }\n",
       "</style>\n",
       "<table border=\"1\" class=\"dataframe\">\n",
       "  <thead>\n",
       "    <tr style=\"text-align: right;\">\n",
       "      <th></th>\n",
       "      <th>core</th>\n",
       "      <th>3P</th>\n",
       "      <th>5P</th>\n",
       "      <th>1F</th>\n",
       "      <th>1D</th>\n",
       "      <th>1P</th>\n",
       "      <th>3F</th>\n",
       "      <th>3D</th>\n",
       "      <th>1S</th>\n",
       "      <th>3S</th>\n",
       "    </tr>\n",
       "  </thead>\n",
       "  <tbody>\n",
       "    <tr>\n",
       "      <th>0</th>\n",
       "      <td>4S</td>\n",
       "      <td>1</td>\n",
       "      <td>1</td>\n",
       "      <td>0</td>\n",
       "      <td>0</td>\n",
       "      <td>0</td>\n",
       "      <td>0</td>\n",
       "      <td>0</td>\n",
       "      <td>0</td>\n",
       "      <td>0</td>\n",
       "    </tr>\n",
       "    <tr>\n",
       "      <th>1</th>\n",
       "      <td>2D</td>\n",
       "      <td>1</td>\n",
       "      <td>0</td>\n",
       "      <td>1</td>\n",
       "      <td>1</td>\n",
       "      <td>1</td>\n",
       "      <td>1</td>\n",
       "      <td>1</td>\n",
       "      <td>0</td>\n",
       "      <td>0</td>\n",
       "    </tr>\n",
       "    <tr>\n",
       "      <th>2</th>\n",
       "      <td>2P</td>\n",
       "      <td>1</td>\n",
       "      <td>0</td>\n",
       "      <td>0</td>\n",
       "      <td>1</td>\n",
       "      <td>1</td>\n",
       "      <td>0</td>\n",
       "      <td>1</td>\n",
       "      <td>1</td>\n",
       "      <td>1</td>\n",
       "    </tr>\n",
       "  </tbody>\n",
       "</table>\n",
       "</div>"
      ],
      "text/plain": [
       "  core  3P  5P  1F  1D  1P  3F  3D  1S  3S\n",
       "0   4S   1   1   0   0   0   0   0   0   0\n",
       "1   2D   1   0   1   1   1   1   1   0   0\n",
       "2   2P   1   0   0   1   1   0   1   1   1"
      ]
     },
     "metadata": {},
     "output_type": "display_data"
    }
   ],
   "source": [
    "# Construct DataFrame for export \n",
    "import pandas as pd\n",
    "df = pd.DataFrame({'core': symbols})\n",
    "for t in Ryst:\n",
    "    df[t] = 0\n",
    "for c, t in zip(Rycore, Ryst):\n",
    "    df.loc[df['core'] == c, t] += 1\n",
    "display(df)\n",
    "df.to_clipboard(index=False)"
   ]
  },
  {
   "cell_type": "code",
   "execution_count": 16,
   "metadata": {},
   "outputs": [
    {
     "name": "stdout",
     "output_type": "stream",
     "text": [
      "There are 14 terms\n"
     ]
    }
   ],
   "source": [
    "nterms = df[df.columns[1:]].sum().sum()\n",
    "print(f'There are {nterms} terms')"
   ]
  },
  {
   "cell_type": "code",
   "execution_count": null,
   "metadata": {},
   "outputs": [],
   "source": []
  }
 ],
 "metadata": {
  "kernelspec": {
   "display_name": "Python 3 (ipykernel)",
   "language": "python",
   "name": "python3"
  },
  "language_info": {
   "codemirror_mode": {
    "name": "ipython",
    "version": 3
   },
   "file_extension": ".py",
   "mimetype": "text/x-python",
   "name": "python",
   "nbconvert_exporter": "python",
   "pygments_lexer": "ipython3",
   "version": "3.11.4"
  }
 },
 "nbformat": 4,
 "nbformat_minor": 2
}
