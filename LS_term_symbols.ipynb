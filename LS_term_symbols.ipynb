{
 "cells": [
  {
   "cell_type": "markdown",
   "metadata": {},
   "source": [
    "## Determine LS atomic term symbol for specified orbital occupation"
   ]
  },
  {
   "cell_type": "code",
   "execution_count": 14,
   "metadata": {},
   "outputs": [],
   "source": [
    "# No principal quantum number included\n",
    "# KKI 8/13/2018\n",
    "import numpy"
   ]
  },
  {
   "cell_type": "code",
   "execution_count": 15,
   "metadata": {},
   "outputs": [],
   "source": [
    "# enter the number of electrons in each orbital type (spdf)\n",
    "ns = 1\n",
    "np = 0\n",
    "nd = 9\n",
    "nf = 0"
   ]
  },
  {
   "cell_type": "code",
   "execution_count": 16,
   "metadata": {},
   "outputs": [],
   "source": [
    "occ = [ns, np, nd, nf]\n",
    "orbstr = ['s', 'p', 'd', 'f']\n",
    "Lstr = ['S', 'P', 'D', 'F', 'G', 'H', 'I', 'K', 'L', 'M', 'N']\n",
    "maxl = len(orbstr) - 1\n",
    "maxL = len(Lstr) - 1"
   ]
  },
  {
   "cell_type": "code",
   "execution_count": 17,
   "metadata": {},
   "outputs": [
    {
     "name": "stdout",
     "output_type": "stream",
     "text": [
      "10 electrons\n",
      "Orbital occupation: s1d9\n"
     ]
    }
   ],
   "source": [
    "occstr = ''\n",
    "for j in range(len(orbstr)):\n",
    "    if occ[j] > 0:\n",
    "        occstr += '{:s}{:d}'.format(orbstr[j], occ[j])\n",
    "        if occ[j] > 2 * (2*j+1):\n",
    "            print(\"You can't put {:d} electrons into the {:s} shell\".format(occ[j], orbstr[j]))\n",
    "            xit = 1/0\n",
    "nelec = sum(occ)\n",
    "print('{:d} electrons'.format(nelec))\n",
    "print('Orbital occupation: {:s}'.format(occstr))"
   ]
  },
  {
   "cell_type": "code",
   "execution_count": 18,
   "metadata": {},
   "outputs": [],
   "source": [
    "def build_occlist(j, nelec, k=0, filled=None):\n",
    "    # make a list of all possible occupation vectors for \n",
    "    # angular momentum = j, # of electrons = nelec\n",
    "    # recursive: 'filled' is an occupation vector for previous electrons\n",
    "    # 'k' is the index of the previous electron; the added electron must\n",
    "    # be added later, i.e., with a higher index\n",
    "    ncol = 2 * (2*j + 1)  # all combinations of spin (+- 1/2) and mj\n",
    "    if nelec == 0:\n",
    "        # no electrons at all\n",
    "        return numpy.zeros(ncol)\n",
    "    #\n",
    "    #print('**', j, nelec, ncol, k, filled)\n",
    "    #\n",
    "    if filled is None:\n",
    "        # no previous electrons\n",
    "        filled = numpy.zeros(ncol)\n",
    "    occlist = []\n",
    "    # must leave room at the end for the other electrons\n",
    "    imax = ncol - (nelec-1)\n",
    "    for i in range(k, imax):\n",
    "        if filled[i] == 0:\n",
    "            # can put an electron here\n",
    "            nplus1 = filled.copy()\n",
    "            nplus1[i] = 1\n",
    "            if nelec == 1:\n",
    "                # this is the last electron\n",
    "                occlist.append(nplus1.copy())\n",
    "            else:\n",
    "                # put the next electron anywhere remaining\n",
    "                newocc = build_occlist(j, nelec-1, k=i+1, filled=nplus1)\n",
    "                #print('nelec={:d}'.format(nelec), newocc)\n",
    "                occlist.extend(newocc)\n",
    "    return numpy.array(occlist)"
   ]
  },
  {
   "cell_type": "code",
   "execution_count": 19,
   "metadata": {},
   "outputs": [],
   "source": [
    "# generate all possible occupation vectors\n",
    "occv = []  # list of arrays\n",
    "for l in range(maxl+1):\n",
    "    occl = build_occlist(l, occ[l])\n",
    "    occv.append(occl)\n",
    "    #print('l = {:d}:\\n'.format(l), occl)"
   ]
  },
  {
   "cell_type": "code",
   "execution_count": 20,
   "metadata": {},
   "outputs": [
    {
     "name": "stdout",
     "output_type": "stream",
     "text": [
      "2 vectors for l = 0\n",
      "1 vectors for l = 1\n",
      "10 vectors for l = 2\n",
      "1 vectors for l = 3\n"
     ]
    }
   ],
   "source": [
    "# for each l, compute L and S for each occupation vector\n",
    "ms = numpy.array([0.5, -0.5])  # array of ms values; same for all l\n",
    "MLMS = []\n",
    "for l in range(maxl+1):\n",
    "    LSlist = []\n",
    "    nvec = 1\n",
    "    if len(occv[l].shape) == 2:\n",
    "        nvec = occv[l].shape[0]\n",
    "    print('{:d} vectors for l = {:d}'.format(nvec, l))\n",
    "    # array of ml values\n",
    "    ml = numpy.arange(-l, l+0.1, 1)\n",
    "    # loop over occupation vectors\n",
    "    for irow in range(nvec):\n",
    "        # reshape vector to two rows; top is ms=-1/2\n",
    "        if nvec == 1:\n",
    "            # only one vector\n",
    "            mvec = occv[l].reshape((2,-1))\n",
    "        else:\n",
    "            mvec = occv[l][irow].reshape((2, -1))\n",
    "        ML = numpy.dot(mvec.sum(axis=0), ml)\n",
    "        MS = numpy.dot(mvec.sum(axis=1), ms)\n",
    "        LSlist.append([ML, MS])\n",
    "    MLMS.append(numpy.array(LSlist))"
   ]
  },
  {
   "cell_type": "code",
   "execution_count": 21,
   "metadata": {},
   "outputs": [],
   "source": [
    "# add up all combinations across shells (l values)\n",
    "def MLMSproduct(MLMS, l=None, prev=[]):\n",
    "    # recursive; need all combinations across l values\n",
    "    # args: l = current value of l\n",
    "    #       prev = list of existing (partial) products (ML, MS) pairs\n",
    "    if l is None:\n",
    "        # this is the top level; just call the next l down\n",
    "        l = maxl\n",
    "        prev = MLMS[l]\n",
    "    else:\n",
    "        # combine current list with previous\n",
    "        newlist = []\n",
    "        for pML in prev:\n",
    "            for ML in MLMS[l]:\n",
    "                newlist.append(pML + ML)\n",
    "        prev = numpy.array(newlist)\n",
    "    if l > 0:\n",
    "        # recursive call to next lower l\n",
    "        LStot = MLMSproduct(MLMS, l-1, prev)\n",
    "        return LStot\n",
    "    else:\n",
    "        # this is the bottom (l=0)\n",
    "        return prev"
   ]
  },
  {
   "cell_type": "code",
   "execution_count": 22,
   "metadata": {},
   "outputs": [
    {
     "name": "stdout",
     "output_type": "stream",
     "text": [
      "Found 20 microstates for s1d9\n"
     ]
    }
   ],
   "source": [
    "# add up all combinations across shells (l values)\n",
    "MLMStot = MLMSproduct(MLMS)\n",
    "nmicro = MLMStot.shape[0]\n",
    "print('Found {:d} microstates for {:s}'.format(nmicro, occstr))"
   ]
  },
  {
   "cell_type": "code",
   "execution_count": 23,
   "metadata": {},
   "outputs": [],
   "source": [
    "# encode the (ML, MS) pairs as complex numbers\n",
    "cplx = numpy.dot(MLMStot, [1, 1j])"
   ]
  },
  {
   "cell_type": "code",
   "execution_count": 24,
   "metadata": {},
   "outputs": [],
   "source": [
    "def create_symbol(L, S, jvals=True):\n",
    "    # return a (string) term symbol\n",
    "    term = '{:d}{:s}'.format(round(2*S + 1), Lstr[int(L)])\n",
    "    if jvals:\n",
    "        # include parenthetical values of J\n",
    "        minj2 = round(2*abs(L - S))\n",
    "        maxj2 = round(2*(L + S))\n",
    "        jlist = []\n",
    "        isodd = minj2 & 0x1\n",
    "        for j2 in range(maxj2, minj2-1, -2):\n",
    "            if isodd:\n",
    "                jlist.append('{:d}/2'.format(j2))\n",
    "            else:\n",
    "                jlist.append('{:d}'.format(j2//2))\n",
    "        term += '({:s})'.format(','.join(jlist))\n",
    "    return term"
   ]
  },
  {
   "cell_type": "code",
   "execution_count": 25,
   "metadata": {},
   "outputs": [
    {
     "name": "stdout",
     "output_type": "stream",
     "text": [
      "Accounted for 20 of 20 microstates\n"
     ]
    }
   ],
   "source": [
    "# assign the states to term symbols\n",
    "maxiter = 100\n",
    "niter = 0\n",
    "ntot = 0  # number of microstates accounted\n",
    "symbols = []\n",
    "while (cplx.shape[0] > 0) and (niter < maxiter):\n",
    "    Smax = cplx.imag.max()\n",
    "    imax = numpy.where(numpy.isclose(cplx.imag, Smax))\n",
    "    Lmax = cplx[imax].real.max()\n",
    "    term = create_symbol(Lmax, Smax)\n",
    "    # delete the (ML, MS) pairs that correspond to this term\n",
    "    compon = []\n",
    "    for ML in numpy.arange(-Lmax, Lmax+0.1, 1):\n",
    "        for MS in numpy.arange(-Smax, Smax+0.1, 1):\n",
    "            compon.append(ML + MS * 1j)\n",
    "    for c in compon:\n",
    "        for ipair in range(cplx.shape[0]):\n",
    "            if numpy.isclose(cplx[ipair], c):\n",
    "                cplx = numpy.delete(cplx, ipair)\n",
    "                break\n",
    "    ntot += (2*Lmax + 1) * (2*Smax + 1)\n",
    "    symbols.append(term)\n",
    "    niter += 1\n",
    "ntot = round(ntot)\n",
    "print('Accounted for {:d} of {:d} microstates'.format(ntot, nmicro))\n",
    "if ntot < nmicro:\n",
    "    print('*** {:d} microstates are missing! ***'.format(nmicro - ntot))"
   ]
  },
  {
   "cell_type": "code",
   "execution_count": 26,
   "metadata": {
    "scrolled": false
   },
   "outputs": [
    {
     "name": "stdout",
     "output_type": "stream",
     "text": [
      "Term symbols for s1d9: \n",
      "\t3D(3,2,1)\n",
      "\t1D(2)\n"
     ]
    }
   ],
   "source": [
    "print('Term symbols for {:s}:'.format(occstr), '\\n\\t'.join([''] + symbols))"
   ]
  },
  {
   "cell_type": "code",
   "execution_count": null,
   "metadata": {},
   "outputs": [],
   "source": []
  },
  {
   "cell_type": "code",
   "execution_count": null,
   "metadata": {},
   "outputs": [],
   "source": []
  }
 ],
 "metadata": {
  "kernelspec": {
   "display_name": "Python 3 (ipykernel)",
   "language": "python",
   "name": "python3"
  },
  "language_info": {
   "codemirror_mode": {
    "name": "ipython",
    "version": 3
   },
   "file_extension": ".py",
   "mimetype": "text/x-python",
   "name": "python",
   "nbconvert_exporter": "python",
   "pygments_lexer": "ipython3",
   "version": "3.7.12"
  }
 },
 "nbformat": 4,
 "nbformat_minor": 2
}
