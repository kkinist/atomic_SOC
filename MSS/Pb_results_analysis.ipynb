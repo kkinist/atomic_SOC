{
 "cells": [
  {
   "cell_type": "code",
   "execution_count": 1,
   "id": "cfeb61a7",
   "metadata": {},
   "outputs": [],
   "source": [
    "# Read summary of Pb SO-CI results from file \"Pb_SOCI_results.xlsx\"\n",
    "\n",
    "import sys, os, re\n",
    "import pandas as pd\n",
    "import numpy as np\n",
    "import matplotlib.pyplot as plt\n",
    "sys.path.insert(0, r'../../atomic_SOC')\n",
    "import chem_subs as chem"
   ]
  },
  {
   "cell_type": "code",
   "execution_count": 2,
   "id": "6cc4d84d-f84e-440e-85ca-9ff043eaeeed",
   "metadata": {},
   "outputs": [],
   "source": [
    "def read_datafile(fname):\n",
    "    # read data from CSV or Excel file\n",
    "    froot = os.path.split(fname)[-1]\n",
    "    if 'xlsx' in fname:\n",
    "        xl = pd.ExcelFile(fname)\n",
    "        if len(xl.sheet_names) > 1:\n",
    "            print('Available worksheets:', xl.sheet_names)\n",
    "            sheet = input('\\tchoose a worksheet: ')\n",
    "        else:\n",
    "            sheet = xl.sheet_names[0]\n",
    "        print(f'Reading worksheet \"{sheet}\" from Excel file {froot}')\n",
    "        df = xl.parse(sheet, header=None)\n",
    "    return sheet, df"
   ]
  },
  {
   "cell_type": "code",
   "execution_count": 3,
   "id": "1ddefa37",
   "metadata": {},
   "outputs": [],
   "source": [
    "datadir = r'C:\\Users\\irikura\\OneDrive - NIST\\Karl\\atomic_SOC\\MSS'\n",
    "datafile = 'Pb_SOCI_results.xlsx'\n",
    "fdata = os.sep.join([datadir, datafile])\n",
    "# Data selection flags\n",
    "use_PP = True  # use results from pseudopotential calculations\n",
    "use_AE = True  # use results from all-electron calculations "
   ]
  },
  {
   "cell_type": "code",
   "execution_count": 4,
   "id": "8ed85665-585e-4ebd-920d-eae06bec95e2",
   "metadata": {},
   "outputs": [
    {
     "name": "stdout",
     "output_type": "stream",
     "text": [
      "Reading SO-CI data from C:\\Users\\irikura\\OneDrive - NIST\\Karl\\atomic_SOC\\MSS\\Pb_SOCI_results.xlsx\n",
      "There are results for 34 calculations\n",
      "Filenames look fine\n"
     ]
    }
   ],
   "source": [
    "print(f'Reading SO-CI data from {fdata}')\n",
    "xl = pd.ExcelFile(fdata)\n",
    "df_letters = xl.parse('letter codes', skiprows=1)\n",
    "ncalc = len(df_letters)\n",
    "print(f'There are results for {ncalc} calculations')\n",
    "re_num = re.compile(r'\\d\\d+')\n",
    "# Check that filenames are consistent with other descriptors\n",
    "nbad = 0\n",
    "iPPl = []  # rows with PP basis set\n",
    "iAEl = []  # rows with AE basis set\n",
    "for irow, row in df_letters.iterrows():\n",
    "    fn = row['Filename']\n",
    "    # basis set\n",
    "    bas = row['Basis set']\n",
    "    bad = False\n",
    "    if 'pp' in bas:\n",
    "        iPPl.append(irow)\n",
    "        if bas not in fn:\n",
    "            bad = True\n",
    "    else:\n",
    "        # all-electron calculation\n",
    "        iAEl.append(irow) \n",
    "        if 'pp' in fn:\n",
    "            bad = True\n",
    "        else:\n",
    "            # remove suffix\n",
    "            for suf in ['dk3', 'dk', 'x2c']:\n",
    "                bas = bas.replace(suf, '')\n",
    "            if bas not in fn:\n",
    "                bad = True\n",
    "    if bad:\n",
    "        print(f'*** basis = {bas} for filename = {fn} looks wrong ***')\n",
    "        nbad += 1\n",
    "        continue  # don't check this filename further\n",
    "    # multi-digit numbers in filename should be 3P weight or active space\n",
    "    numl = re_num.findall(fn)\n",
    "    if len(numl):\n",
    "        wt = str(row['3P wt in CASSCF'])\n",
    "        acts = row['Active space'].replace(')', '').replace('(', '').replace('/', '')\n",
    "        for num in numl:\n",
    "            if (wt != num) and (acts != num):\n",
    "                print(f'*** filname {fn} does not match active space {row[\"Active space\"]} or 3P weight {wt}')\n",
    "                nbad += 1\n",
    "if nbad:\n",
    "    print(f'*** There are {nbad} questionable filenames ***')\n",
    "else:\n",
    "    print('Filenames look fine')"
   ]
  },
  {
   "cell_type": "code",
   "execution_count": 5,
   "id": "00d64f86-d4f2-4ba7-a691-84b01b06d6f9",
   "metadata": {},
   "outputs": [],
   "source": [
    "# Apply restrictions (PP, AE)\n",
    "if not use_PP:\n",
    "    df_letters = df_letters.drop(iPPl)\n",
    "    print(f'*** dropping {len(iPPl)} PP calculations')\n",
    "if not use_AE:\n",
    "    df_letters = df_letters.drop(iAEl) \n",
    "    print(f'*** dropping {len(iAEl)} AE calculations')"
   ]
  },
  {
   "cell_type": "code",
   "execution_count": 6,
   "id": "2c82f33c-1de8-4db5-aef3-ad547f26a5ad",
   "metadata": {},
   "outputs": [
    {
     "data": {
      "text/html": [
       "<div>\n",
       "<style scoped>\n",
       "    .dataframe tbody tr th:only-of-type {\n",
       "        vertical-align: middle;\n",
       "    }\n",
       "\n",
       "    .dataframe tbody tr th {\n",
       "        vertical-align: top;\n",
       "    }\n",
       "\n",
       "    .dataframe thead th {\n",
       "        text-align: right;\n",
       "    }\n",
       "</style>\n",
       "<table border=\"1\" class=\"dataframe\">\n",
       "  <thead>\n",
       "    <tr style=\"text-align: right;\">\n",
       "      <th></th>\n",
       "      <th>Calc</th>\n",
       "      <th>Terms</th>\n",
       "      <th>3P wt in CASSCF</th>\n",
       "      <th>Basis set</th>\n",
       "      <th>Active space</th>\n",
       "      <th>Raw Eso</th>\n",
       "      <th>Filename</th>\n",
       "      <th>eq. (2)</th>\n",
       "      <th>Comments</th>\n",
       "    </tr>\n",
       "  </thead>\n",
       "  <tbody>\n",
       "    <tr>\n",
       "      <th>0</th>\n",
       "      <td>A</td>\n",
       "      <td>3(P,D,P,S) + 1(D,S,P,D,S)</td>\n",
       "      <td>1</td>\n",
       "      <td>actzpp</td>\n",
       "      <td>(4/7)</td>\n",
       "      <td>-10883.89</td>\n",
       "      <td>pb_3PDPS1DSPDS_actzpp.pro</td>\n",
       "      <td>-11509.75</td>\n",
       "      <td>err(J=1,2) = -598, -444</td>\n",
       "    </tr>\n",
       "    <tr>\n",
       "      <th>1</th>\n",
       "      <td>B</td>\n",
       "      <td>3(P,D,P,S) + 1(D,S,P,D,S)</td>\n",
       "      <td>1</td>\n",
       "      <td>acqzpp</td>\n",
       "      <td>(4/7)</td>\n",
       "      <td>-11102.42</td>\n",
       "      <td>pb_3PDPS1DSPDS_acqzpp.pro</td>\n",
       "      <td>-11507.83</td>\n",
       "      <td>err(J=1,2) = -379, -231.  Levels above 50000 c...</td>\n",
       "    </tr>\n",
       "    <tr>\n",
       "      <th>2</th>\n",
       "      <td>D</td>\n",
       "      <td>3(P,D,P,S) + 1(D,S,P,D,S)</td>\n",
       "      <td>1</td>\n",
       "      <td>ac5zpp</td>\n",
       "      <td>(4/7)</td>\n",
       "      <td>-11166.40</td>\n",
       "      <td>pb_3PDPS1DSPDS_ac5zpp.pro</td>\n",
       "      <td>-11512.28</td>\n",
       "      <td>(cf. M) (48.7 hrs) err(J=1,2) = -326, -174; er...</td>\n",
       "    </tr>\n",
       "    <tr>\n",
       "      <th>3</th>\n",
       "      <td>F</td>\n",
       "      <td>3P + 1D</td>\n",
       "      <td>1</td>\n",
       "      <td>actzdk3</td>\n",
       "      <td>(4/4)</td>\n",
       "      <td>-11440.81</td>\n",
       "      <td>pb_3P1D_actz.pro</td>\n",
       "      <td>-11550.90</td>\n",
       "      <td>err(J=1,2) = -2099, -1622 (and J=2 is led by 1...</td>\n",
       "    </tr>\n",
       "    <tr>\n",
       "      <th>4</th>\n",
       "      <td>G</td>\n",
       "      <td>3P + 1D</td>\n",
       "      <td>1</td>\n",
       "      <td>acqzdk3</td>\n",
       "      <td>(4/4)</td>\n",
       "      <td>-11725.99</td>\n",
       "      <td>pb_3P1D_acqz.pro</td>\n",
       "      <td>-11568.02</td>\n",
       "      <td>(1 hour) err(J=1,2) = -1956, -1452 (1D as abov...</td>\n",
       "    </tr>\n",
       "  </tbody>\n",
       "</table>\n",
       "</div>"
      ],
      "text/plain": [
       "  Calc                      Terms  3P wt in CASSCF Basis set Active space  \\\n",
       "0    A  3(P,D,P,S) + 1(D,S,P,D,S)                1    actzpp        (4/7)   \n",
       "1    B  3(P,D,P,S) + 1(D,S,P,D,S)                1    acqzpp        (4/7)   \n",
       "2    D  3(P,D,P,S) + 1(D,S,P,D,S)                1    ac5zpp        (4/7)   \n",
       "3    F                    3P + 1D                1   actzdk3        (4/4)   \n",
       "4    G                    3P + 1D                1   acqzdk3        (4/4)   \n",
       "\n",
       "    Raw Eso                   Filename   eq. (2)  \\\n",
       "0 -10883.89  pb_3PDPS1DSPDS_actzpp.pro -11509.75   \n",
       "1 -11102.42  pb_3PDPS1DSPDS_acqzpp.pro -11507.83   \n",
       "2 -11166.40  pb_3PDPS1DSPDS_ac5zpp.pro -11512.28   \n",
       "3 -11440.81           pb_3P1D_actz.pro -11550.90   \n",
       "4 -11725.99           pb_3P1D_acqz.pro -11568.02   \n",
       "\n",
       "                                            Comments  \n",
       "0                            err(J=1,2) = -598, -444  \n",
       "1  err(J=1,2) = -379, -231.  Levels above 50000 c...  \n",
       "2  (cf. M) (48.7 hrs) err(J=1,2) = -326, -174; er...  \n",
       "3  err(J=1,2) = -2099, -1622 (and J=2 is led by 1...  \n",
       "4  (1 hour) err(J=1,2) = -1956, -1452 (1D as abov...  "
      ]
     },
     "execution_count": 6,
     "metadata": {},
     "output_type": "execute_result"
    }
   ],
   "source": [
    "df_letters.head()"
   ]
  },
  {
   "cell_type": "code",
   "execution_count": 7,
   "id": "7174bbbd-fbce-4b31-a101-9c428fcd053b",
   "metadata": {},
   "outputs": [],
   "source": [
    "# Read all the data pages\n",
    "dfd = {}  # key = letter code, value = DataFrame\n",
    "for lett in df_letters.Calc:\n",
    "    dfd[lett] = xl.parse(lett)"
   ]
  },
  {
   "cell_type": "code",
   "execution_count": 8,
   "id": "1dcae5db-47ce-4f09-a51b-abb3f1b2acd8",
   "metadata": {},
   "outputs": [],
   "source": [
    "incols = df_letters.columns\n",
    "dfout = df_letters[incols[:7]].copy()"
   ]
  },
  {
   "cell_type": "markdown",
   "id": "b06bce64-f3f9-43ef-9fe5-df6685e46bb5",
   "metadata": {},
   "source": [
    "### Compute energy of 3P term using exptl energy levels"
   ]
  },
  {
   "cell_type": "code",
   "execution_count": 9,
   "id": "2f1c4732-11d8-465a-b71b-7a82275beabb",
   "metadata": {},
   "outputs": [
    {
     "name": "stdout",
     "output_type": "stream",
     "text": [
      "Current evaluation of eq. (2) agrees with earlier values\n"
     ]
    }
   ],
   "source": [
    "Esol = []\n",
    "nround = 1  # number of decimals (cm-1)\n",
    "tol = 0.1 ** nround  # cm-1\n",
    "nbad = 0\n",
    "for icalc, row in df_letters.iterrows():\n",
    "    lett = row['Calc']\n",
    "    df = dfd[lett]\n",
    "    wcol = '(1)3P'\n",
    "    if wcol not in df.columns:\n",
    "        wcol = '3P'\n",
    "    wts = df[wcol].values\n",
    "    levs = df['Expt/cm-1'].values\n",
    "    Eso = - np.dot(wts, levs) / wts.sum()\n",
    "    eq2 = df_letters.at[icalc, \"eq. (2)\"]  # value from the summary spreadsheet\n",
    "    if abs(Eso - eq2) > tol:\n",
    "        # print warning\n",
    "        print(f'*** For calc {lett:<3s}, Eso = {Eso:.1f} is different from ealier value {eq2:.1f} ***')\n",
    "        nbad += 1\n",
    "    Esol.append(Eso)\n",
    "dfout['Eso'] = np.round(Esol, nround)\n",
    "if nbad:\n",
    "    print(f'*** Current evaluation of eq. (2) differs from earlier in {nbad} cases ***')\n",
    "else:\n",
    "    print('Current evaluation of eq. (2) agrees with earlier values')"
   ]
  },
  {
   "cell_type": "markdown",
   "id": "4949b2f6-947b-4a99-b193-7b2414559592",
   "metadata": {},
   "source": [
    "### Compute weighted unsigned error of 3P-derived level energies"
   ]
  },
  {
   "cell_type": "code",
   "execution_count": 10,
   "id": "7dc2f58b-d734-425d-8cb3-2a6df92931c6",
   "metadata": {},
   "outputs": [],
   "source": [
    "werrl = []\n",
    "for icalc, lett in enumerate(dfd.keys()):\n",
    "    df = dfd[lett]\n",
    "    wcol = '(1)3P'\n",
    "    if wcol not in df.columns:\n",
    "        wcol = '3P'\n",
    "    wts = df[wcol].values\n",
    "    uerr = np.abs(df['err'].values)\n",
    "    werr = np.dot(wts, uerr) / wts.sum()\n",
    "    werrl.append(werr)\n",
    "dfout['wtd uerr'] = np.round(werrl, nround)"
   ]
  },
  {
   "cell_type": "code",
   "execution_count": 11,
   "id": "a0b8217d-5610-40e7-ba69-6075d6eb964c",
   "metadata": {},
   "outputs": [
    {
     "data": {
      "text/html": [
       "<div>\n",
       "<style scoped>\n",
       "    .dataframe tbody tr th:only-of-type {\n",
       "        vertical-align: middle;\n",
       "    }\n",
       "\n",
       "    .dataframe tbody tr th {\n",
       "        vertical-align: top;\n",
       "    }\n",
       "\n",
       "    .dataframe thead th {\n",
       "        text-align: right;\n",
       "    }\n",
       "</style>\n",
       "<table border=\"1\" class=\"dataframe\">\n",
       "  <thead>\n",
       "    <tr style=\"text-align: right;\">\n",
       "      <th></th>\n",
       "      <th>Calc</th>\n",
       "      <th>Terms</th>\n",
       "      <th>3P wt in CASSCF</th>\n",
       "      <th>Basis set</th>\n",
       "      <th>Active space</th>\n",
       "      <th>Raw Eso</th>\n",
       "      <th>Filename</th>\n",
       "      <th>Eso</th>\n",
       "      <th>wtd uerr</th>\n",
       "    </tr>\n",
       "  </thead>\n",
       "  <tbody>\n",
       "    <tr>\n",
       "      <th>0</th>\n",
       "      <td>A</td>\n",
       "      <td>3(P,D,P,S) + 1(D,S,P,D,S)</td>\n",
       "      <td>1</td>\n",
       "      <td>actzpp</td>\n",
       "      <td>(4/7)</td>\n",
       "      <td>-10883.89</td>\n",
       "      <td>pb_3PDPS1DSPDS_actzpp.pro</td>\n",
       "      <td>-11509.8</td>\n",
       "      <td>654.0</td>\n",
       "    </tr>\n",
       "    <tr>\n",
       "      <th>1</th>\n",
       "      <td>B</td>\n",
       "      <td>3(P,D,P,S) + 1(D,S,P,D,S)</td>\n",
       "      <td>1</td>\n",
       "      <td>acqzpp</td>\n",
       "      <td>(4/7)</td>\n",
       "      <td>-11102.42</td>\n",
       "      <td>pb_3PDPS1DSPDS_acqzpp.pro</td>\n",
       "      <td>-11507.8</td>\n",
       "      <td>421.0</td>\n",
       "    </tr>\n",
       "    <tr>\n",
       "      <th>2</th>\n",
       "      <td>D</td>\n",
       "      <td>3(P,D,P,S) + 1(D,S,P,D,S)</td>\n",
       "      <td>1</td>\n",
       "      <td>ac5zpp</td>\n",
       "      <td>(4/7)</td>\n",
       "      <td>-11166.40</td>\n",
       "      <td>pb_3PDPS1DSPDS_ac5zpp.pro</td>\n",
       "      <td>-11512.3</td>\n",
       "      <td>361.3</td>\n",
       "    </tr>\n",
       "    <tr>\n",
       "      <th>3</th>\n",
       "      <td>F</td>\n",
       "      <td>3P + 1D</td>\n",
       "      <td>1</td>\n",
       "      <td>actzdk3</td>\n",
       "      <td>(4/4)</td>\n",
       "      <td>-11440.81</td>\n",
       "      <td>pb_3P1D_actz.pro</td>\n",
       "      <td>-11550.9</td>\n",
       "      <td>2182.4</td>\n",
       "    </tr>\n",
       "    <tr>\n",
       "      <th>4</th>\n",
       "      <td>G</td>\n",
       "      <td>3P + 1D</td>\n",
       "      <td>1</td>\n",
       "      <td>acqzdk3</td>\n",
       "      <td>(4/4)</td>\n",
       "      <td>-11725.99</td>\n",
       "      <td>pb_3P1D_acqz.pro</td>\n",
       "      <td>-11568.0</td>\n",
       "      <td>2257.1</td>\n",
       "    </tr>\n",
       "  </tbody>\n",
       "</table>\n",
       "</div>"
      ],
      "text/plain": [
       "  Calc                      Terms  3P wt in CASSCF Basis set Active space  \\\n",
       "0    A  3(P,D,P,S) + 1(D,S,P,D,S)                1    actzpp        (4/7)   \n",
       "1    B  3(P,D,P,S) + 1(D,S,P,D,S)                1    acqzpp        (4/7)   \n",
       "2    D  3(P,D,P,S) + 1(D,S,P,D,S)                1    ac5zpp        (4/7)   \n",
       "3    F                    3P + 1D                1   actzdk3        (4/4)   \n",
       "4    G                    3P + 1D                1   acqzdk3        (4/4)   \n",
       "\n",
       "    Raw Eso                   Filename      Eso  wtd uerr  \n",
       "0 -10883.89  pb_3PDPS1DSPDS_actzpp.pro -11509.8     654.0  \n",
       "1 -11102.42  pb_3PDPS1DSPDS_acqzpp.pro -11507.8     421.0  \n",
       "2 -11166.40  pb_3PDPS1DSPDS_ac5zpp.pro -11512.3     361.3  \n",
       "3 -11440.81           pb_3P1D_actz.pro -11550.9    2182.4  \n",
       "4 -11725.99           pb_3P1D_acqz.pro -11568.0    2257.1  "
      ]
     },
     "execution_count": 11,
     "metadata": {},
     "output_type": "execute_result"
    }
   ],
   "source": [
    "dfout.head()"
   ]
  },
  {
   "cell_type": "code",
   "execution_count": 12,
   "id": "c561e637-b9ad-4246-9025-041390c8b3d3",
   "metadata": {},
   "outputs": [
    {
     "name": "stdout",
     "output_type": "stream",
     "text": [
      "Uncertainty as weighted unsigned error in computed 3P level energies\n"
     ]
    },
    {
     "data": {
      "image/png": "[encoded data removed]",
      "text/plain": [
       "<Figure size 640x480 with 1 Axes>"
      ]
     },
     "metadata": {},
     "output_type": "display_data"
    }
   ],
   "source": [
    "# Choose values for uncertainties\n",
    "print('Uncertainty as weighted unsigned error in computed 3P level energies')\n",
    "yunc = dfout['wtd uerr']\n",
    "plt.errorbar(dfout['Raw Eso'], dfout['Eso'], yerr=yunc, fmt='o')\n",
    "plt.ylabel(r'$E_\\mathrm{so}$ / cm$^{-1}$')\n",
    "plt.xlabel(r'Raw $E_\\mathrm{so}$ / cm$^{-1}$')\n",
    "# show y=x line\n",
    "plt.plot(dfout['Eso'], dfout['Eso'], ls=':', label='x=y')\n",
    "plt.legend()\n",
    "plt.show()"
   ]
  },
  {
   "cell_type": "code",
   "execution_count": 13,
   "id": "5c2f88b9-e3b7-43b8-9049-c2fa012ded86",
   "metadata": {},
   "outputs": [
    {
     "name": "stdout",
     "output_type": "stream",
     "text": [
      "Unweighted stats for raw and eq. (2) values of Eso:\n"
     ]
    },
    {
     "data": {
      "text/html": [
       "<div>\n",
       "<style scoped>\n",
       "    .dataframe tbody tr th:only-of-type {\n",
       "        vertical-align: middle;\n",
       "    }\n",
       "\n",
       "    .dataframe tbody tr th {\n",
       "        vertical-align: top;\n",
       "    }\n",
       "\n",
       "    .dataframe thead th {\n",
       "        text-align: right;\n",
       "    }\n",
       "</style>\n",
       "<table border=\"1\" class=\"dataframe\">\n",
       "  <thead>\n",
       "    <tr style=\"text-align: right;\">\n",
       "      <th></th>\n",
       "      <th>mean</th>\n",
       "      <th>stds</th>\n",
       "      <th>range</th>\n",
       "    </tr>\n",
       "  </thead>\n",
       "  <tbody>\n",
       "    <tr>\n",
       "      <th>raw</th>\n",
       "      <td>-11818.8</td>\n",
       "      <td>4377.0</td>\n",
       "      <td>15142.7</td>\n",
       "    </tr>\n",
       "    <tr>\n",
       "      <th>eq. (2)</th>\n",
       "      <td>-11376.0</td>\n",
       "      <td>843.0</td>\n",
       "      <td>4010.9</td>\n",
       "    </tr>\n",
       "  </tbody>\n",
       "</table>\n",
       "</div>"
      ],
      "text/plain": [
       "            mean    stds    range\n",
       "raw     -11818.8  4377.0  15142.7\n",
       "eq. (2) -11376.0   843.0   4010.9"
      ]
     },
     "metadata": {},
     "output_type": "display_data"
    },
    {
     "name": "stdout",
     "output_type": "stream",
     "text": [
      "Means differ by -442.8\n"
     ]
    }
   ],
   "source": [
    "print('Unweighted stats for raw and eq. (2) values of Eso:')\n",
    "xraw = dfout[\"Raw Eso\"].values\n",
    "xeq2 = dfout['Eso'].values\n",
    "mraw = xraw.mean()\n",
    "meq2 = xeq2.mean()\n",
    "dfu = pd.DataFrame({'mean': np.round([mraw, meq2], nround), \n",
    "                   'stds': np.round([xraw.std(ddof=1), xeq2.std(ddof=1)]),\n",
    "                   'range': np.round([np.ptp(xraw), np.ptp(xeq2)], nround)},\n",
    "                   index=['raw', 'eq. (2)'])\n",
    "display(dfu)\n",
    "print(f'Means differ by {mraw - meq2:.1f}')"
   ]
  },
  {
   "cell_type": "code",
   "execution_count": 14,
   "id": "f8610359-d01f-44d9-a524-e6da97386e8d",
   "metadata": {},
   "outputs": [
    {
     "name": "stdout",
     "output_type": "stream",
     "text": [
      "Number of calculations considered = 34\n",
      "Weighted stats for raw and eq. (2) values of Eso, weights = yunc**-1:\n"
     ]
    },
    {
     "data": {
      "text/html": [
       "<div>\n",
       "<style scoped>\n",
       "    .dataframe tbody tr th:only-of-type {\n",
       "        vertical-align: middle;\n",
       "    }\n",
       "\n",
       "    .dataframe tbody tr th {\n",
       "        vertical-align: top;\n",
       "    }\n",
       "\n",
       "    .dataframe thead th {\n",
       "        text-align: right;\n",
       "    }\n",
       "</style>\n",
       "<table border=\"1\" class=\"dataframe\">\n",
       "  <thead>\n",
       "    <tr style=\"text-align: right;\">\n",
       "      <th></th>\n",
       "      <th>wmean</th>\n",
       "      <th>wstds</th>\n",
       "    </tr>\n",
       "  </thead>\n",
       "  <tbody>\n",
       "    <tr>\n",
       "      <th>raw</th>\n",
       "      <td>-10937.1</td>\n",
       "      <td>135.9</td>\n",
       "    </tr>\n",
       "    <tr>\n",
       "      <th>eq. (2)</th>\n",
       "      <td>-11407.2</td>\n",
       "      <td>60.2</td>\n",
       "    </tr>\n",
       "  </tbody>\n",
       "</table>\n",
       "</div>"
      ],
      "text/plain": [
       "           wmean  wstds\n",
       "raw     -10937.1  135.9\n",
       "eq. (2) -11407.2   60.2"
      ]
     },
     "metadata": {},
     "output_type": "display_data"
    },
    {
     "name": "stdout",
     "output_type": "stream",
     "text": [
      "    Means differ by 470.1\n",
      "Weighted stats for raw and eq. (2) values of Eso, weights = yunc**-2:\n"
     ]
    },
    {
     "data": {
      "text/html": [
       "<div>\n",
       "<style scoped>\n",
       "    .dataframe tbody tr th:only-of-type {\n",
       "        vertical-align: middle;\n",
       "    }\n",
       "\n",
       "    .dataframe tbody tr th {\n",
       "        vertical-align: top;\n",
       "    }\n",
       "\n",
       "    .dataframe thead th {\n",
       "        text-align: right;\n",
       "    }\n",
       "</style>\n",
       "<table border=\"1\" class=\"dataframe\">\n",
       "  <thead>\n",
       "    <tr style=\"text-align: right;\">\n",
       "      <th></th>\n",
       "      <th>wmean</th>\n",
       "      <th>wstds</th>\n",
       "    </tr>\n",
       "  </thead>\n",
       "  <tbody>\n",
       "    <tr>\n",
       "      <th>raw</th>\n",
       "      <td>-11012.9</td>\n",
       "      <td>49.2</td>\n",
       "    </tr>\n",
       "    <tr>\n",
       "      <th>eq. (2)</th>\n",
       "      <td>-11471.5</td>\n",
       "      <td>18.3</td>\n",
       "    </tr>\n",
       "  </tbody>\n",
       "</table>\n",
       "</div>"
      ],
      "text/plain": [
       "           wmean  wstds\n",
       "raw     -11012.9   49.2\n",
       "eq. (2) -11471.5   18.3"
      ]
     },
     "metadata": {},
     "output_type": "display_data"
    },
    {
     "name": "stdout",
     "output_type": "stream",
     "text": [
      "    Means differ by 458.5\n",
      "Weighted stats for raw and eq. (2) values of Eso, weights = yunc**-0.5:\n"
     ]
    },
    {
     "data": {
      "text/html": [
       "<div>\n",
       "<style scoped>\n",
       "    .dataframe tbody tr th:only-of-type {\n",
       "        vertical-align: middle;\n",
       "    }\n",
       "\n",
       "    .dataframe tbody tr th {\n",
       "        vertical-align: top;\n",
       "    }\n",
       "\n",
       "    .dataframe thead th {\n",
       "        text-align: right;\n",
       "    }\n",
       "</style>\n",
       "<table border=\"1\" class=\"dataframe\">\n",
       "  <thead>\n",
       "    <tr style=\"text-align: right;\">\n",
       "      <th></th>\n",
       "      <th>wmean</th>\n",
       "      <th>wstds</th>\n",
       "    </tr>\n",
       "  </thead>\n",
       "  <tbody>\n",
       "    <tr>\n",
       "      <th>raw</th>\n",
       "      <td>-11104.1</td>\n",
       "      <td>324.4</td>\n",
       "    </tr>\n",
       "    <tr>\n",
       "      <th>eq. (2)</th>\n",
       "      <td>-11366.6</td>\n",
       "      <td>98.3</td>\n",
       "    </tr>\n",
       "  </tbody>\n",
       "</table>\n",
       "</div>"
      ],
      "text/plain": [
       "           wmean  wstds\n",
       "raw     -11104.1  324.4\n",
       "eq. (2) -11366.6   98.3"
      ]
     },
     "metadata": {},
     "output_type": "display_data"
    },
    {
     "name": "stdout",
     "output_type": "stream",
     "text": [
      "    Means differ by 262.6\n"
     ]
    }
   ],
   "source": [
    "print(f'Number of calculations considered = {len(df_letters)}')\n",
    "for p in [-1, -2, -0.5]:\n",
    "    print(f'Weighted stats for raw and eq. (2) values of Eso, weights = yunc**{p}:')\n",
    "    mraw, uraw = chem.weighted_mean(xraw, yunc**p)\n",
    "    meq2, ueq2 = chem.weighted_mean(xeq2, yunc**p)\n",
    "    dfw = pd.DataFrame({'wmean': np.round([mraw, meq2], nround), \n",
    "                       'wstds': np.round([uraw, ueq2], nround)},\n",
    "                       index=['raw', 'eq. (2)'])\n",
    "    #dfw.loc['diff'] = [xraw - xeq2, 0]\n",
    "    display(dfw)\n",
    "    print(f'    Means differ by {mraw - meq2:.1f}')"
   ]
  },
  {
   "cell_type": "code",
   "execution_count": null,
   "id": "04395866-ce1a-4954-8dbc-eca922ad409b",
   "metadata": {},
   "outputs": [],
   "source": []
  },
  {
   "cell_type": "code",
   "execution_count": null,
   "id": "dfa5876b-4260-468c-afd2-5e250b4fc9d6",
   "metadata": {},
   "outputs": [],
   "source": []
  }
 ],
 "metadata": {
  "kernelspec": {
   "display_name": "Python 3 (ipykernel)",
   "language": "python",
   "name": "python3"
  },
  "language_info": {
   "codemirror_mode": {
    "name": "ipython",
    "version": 3
   },
   "file_extension": ".py",
   "mimetype": "text/x-python",
   "name": "python",
   "nbconvert_exporter": "python",
   "pygments_lexer": "ipython3",
   "version": "3.13.2"
  }
 },
 "nbformat": 4,
 "nbformat_minor": 5
}
