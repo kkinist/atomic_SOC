{
 "cells": [
  {
   "cell_type": "code",
   "execution_count": 25,
   "metadata": {},
   "outputs": [],
   "source": [
    "# Analyze atomic SO-CI output file from Molpro\n",
    "# KKI 12/21/2023\n",
    "import re, sys, glob, subprocess, os\n",
    "\n",
    "os.environ['OMP_NUM_THREADS'] = '1'  # to avoid memory leak in KMeans()\n",
    "import numpy as np\n",
    "import pandas as pd\n",
    "import matplotlib.pyplot as plt\n",
    "from collections import Counter\n",
    "from sklearn.cluster import KMeans\n",
    "\n",
    "import chem_subs as chem\n",
    "import molpro_subs as mpr\n",
    "\n",
    "pd.set_option('display.max_rows', None)\n",
    "np.set_printoptions(suppress=True)"
   ]
  },
  {
   "cell_type": "markdown",
   "metadata": {},
   "source": [
    "### Specify Molpro SO-CI output file"
   ]
  },
  {
   "cell_type": "code",
   "execution_count": 26,
   "metadata": {},
   "outputs": [],
   "source": [
    "fdir = r'C:\\Users\\irikura\\OneDrive - NIST\\Karl\\UMemphis'\n",
    "#fname = 'Ni_II-29D17Q-12-21-23.out'\n",
    "fname = 'ni+_5D7Q_tz_dk.pro'"
   ]
  },
  {
   "cell_type": "code",
   "execution_count": 27,
   "metadata": {},
   "outputs": [
    {
     "name": "stdout",
     "output_type": "stream",
     "text": [
      "Reading MOLPRO file \"C:\\Users\\irikura\\OneDrive - NIST\\Karl\\UMemphis\\ni+_5D7Q_tz_dk.pro\"\n",
      "The atom is Ni+1 with charge 1.0\n",
      "The computational point group is Ci\n"
     ]
    }
   ],
   "source": [
    "fsoc = os.sep.join([fdir, fname])\n",
    "print(f'Reading MOLPRO file \"{fsoc}\"')\n",
    "atom = mpr.stoichiometry(fsoc)\n",
    "charge = mpr.total_charge(fsoc, verbose=True)\n",
    "print(f'The atom is {atom} with charge {charge}')\n",
    "# append charge, to match sheet names in exptl data file\n",
    "if charge > 0: \n",
    "    atom += '+'\n",
    "elif charge < 0:\n",
    "    atom += '-'\n",
    "if abs(charge) > 1:\n",
    "    atom += f'{abs(charge)}'\n",
    "PG = mpr.read_compgroup(fsoc)\n",
    "print(f'The computational point group is {PG}')"
   ]
  },
  {
   "cell_type": "code",
   "execution_count": 28,
   "metadata": {
    "scrolled": true
   },
   "outputs": [
    {
     "name": "stdout",
     "output_type": "stream",
     "text": [
      "Computational group = Ci\n",
      "CASSCF states:\n",
      "    12 Doublet\n",
      "    10 Quartet\n"
     ]
    }
   ],
   "source": [
    "SOCI = mpr.fullmatSOCI(fsoc, atom=True)"
   ]
  },
  {
   "cell_type": "code",
   "execution_count": 29,
   "metadata": {},
   "outputs": [
    {
     "name": "stdout",
     "output_type": "stream",
     "text": [
      "From lowest level and lowest uncoupled energy, raw theoretical SOCraw = -628.184 cm-1\n"
     ]
    }
   ],
   "source": [
    "SOCraw = SOCI.vals.min()\n",
    "print(f'From lowest level and lowest uncoupled energy, raw theoretical SOCraw = {SOCraw:.3f} cm-1')"
   ]
  },
  {
   "cell_type": "code",
   "execution_count": 30,
   "metadata": {},
   "outputs": [],
   "source": [
    "fmt = {'Eshift': '{:.1f}', 'Pct': '{:.3f}', 'eV': '{:.3f}', 'degen': '{:.0f}'}\n",
    "for col in ['J', 'Ecalc', 'E_dif', 'Erel', 'Eshift', 'err', 'Eterm', 'cm-1', 'fitted',\n",
    "           'wmean', 'wstds', 'uwmean', 'uwstds']:\n",
    "    fmt[col] =  fmt['Eshift']\n",
    "for col in ['dif', 'Theory', 'ecm', 'SOC', 'RMSE']:\n",
    "    fmt[col] = '{:.2f}'"
   ]
  },
  {
   "cell_type": "code",
   "execution_count": 31,
   "metadata": {},
   "outputs": [
    {
     "name": "stdout",
     "output_type": "stream",
     "text": [
      "Averaged terms from MRCI:\n"
     ]
    },
    {
     "data": {
      "text/html": [
       "<style type=\"text/css\">\n",
       "</style>\n",
       "<table id=\"T_2db62\">\n",
       "  <thead>\n",
       "    <tr>\n",
       "      <th class=\"blank level0\" >&nbsp;</th>\n",
       "      <th id=\"T_2db62_level0_col0\" class=\"col_heading level0 col0\" >Term</th>\n",
       "      <th id=\"T_2db62_level0_col1\" class=\"col_heading level0 col1\" >Edav</th>\n",
       "      <th id=\"T_2db62_level0_col2\" class=\"col_heading level0 col2\" >idx</th>\n",
       "      <th id=\"T_2db62_level0_col3\" class=\"col_heading level0 col3\" >ecm</th>\n",
       "      <th id=\"T_2db62_level0_col4\" class=\"col_heading level0 col4\" >Erel</th>\n",
       "    </tr>\n",
       "  </thead>\n",
       "  <tbody>\n",
       "    <tr>\n",
       "      <th id=\"T_2db62_level0_row0\" class=\"row_heading level0 row0\" >0</th>\n",
       "      <td id=\"T_2db62_row0_col0\" class=\"data row0 col0\" >(1)2D</td>\n",
       "      <td id=\"T_2db62_row0_col1\" class=\"data row0 col1\" >-1519.475925</td>\n",
       "      <td id=\"T_2db62_row0_col2\" class=\"data row0 col2\" >[0 1 2 4 3]</td>\n",
       "      <td id=\"T_2db62_row0_col3\" class=\"data row0 col3\" >0.00</td>\n",
       "      <td id=\"T_2db62_row0_col4\" class=\"data row0 col4\" >628.2</td>\n",
       "    </tr>\n",
       "    <tr>\n",
       "      <th id=\"T_2db62_level0_row1\" class=\"row_heading level0 row1\" >1</th>\n",
       "      <td id=\"T_2db62_row1_col0\" class=\"data row1 col0\" >(1)4F</td>\n",
       "      <td id=\"T_2db62_row1_col1\" class=\"data row1 col1\" >-1519.436950</td>\n",
       "      <td id=\"T_2db62_row1_col2\" class=\"data row1 col2\" >[12 13 14 15 17 18 16]</td>\n",
       "      <td id=\"T_2db62_row1_col3\" class=\"data row1 col3\" >8554.20</td>\n",
       "      <td id=\"T_2db62_row1_col4\" class=\"data row1 col4\" >9182.4</td>\n",
       "    </tr>\n",
       "    <tr>\n",
       "      <th id=\"T_2db62_level0_row2\" class=\"row_heading level0 row2\" >2</th>\n",
       "      <td id=\"T_2db62_row2_col0\" class=\"data row2 col0\" >(1)2F</td>\n",
       "      <td id=\"T_2db62_row2_col1\" class=\"data row2 col1\" >-1519.413833</td>\n",
       "      <td id=\"T_2db62_row2_col2\" class=\"data row2 col2\" >[ 5  6  8  9  7 10 11]</td>\n",
       "      <td id=\"T_2db62_row2_col3\" class=\"data row2 col3\" >13627.80</td>\n",
       "      <td id=\"T_2db62_row2_col4\" class=\"data row2 col4\" >14256.0</td>\n",
       "    </tr>\n",
       "    <tr>\n",
       "      <th id=\"T_2db62_level0_row3\" class=\"row_heading level0 row3\" >3</th>\n",
       "      <td id=\"T_2db62_row3_col0\" class=\"data row3 col0\" >(1)4P</td>\n",
       "      <td id=\"T_2db62_row3_col1\" class=\"data row3 col1\" >-1519.368431</td>\n",
       "      <td id=\"T_2db62_row3_col2\" class=\"data row3 col2\" >[19 20 21]</td>\n",
       "      <td id=\"T_2db62_row3_col3\" class=\"data row3 col3\" >23592.40</td>\n",
       "      <td id=\"T_2db62_row3_col4\" class=\"data row3 col4\" >24220.6</td>\n",
       "    </tr>\n",
       "  </tbody>\n",
       "</table>\n"
      ],
      "text/plain": [
       "<pandas.io.formats.style.Styler at 0x17c65797590>"
      ]
     },
     "metadata": {},
     "output_type": "display_data"
    },
    {
     "name": "stdout",
     "output_type": "stream",
     "text": [
      "\"ecm\"  is relative to the lowest term (cm-1)\n",
      "\"Erel\" is relative to the ground level\n"
     ]
    }
   ],
   "source": [
    "dfterm = SOCI.average_terms(be_close=['Energy', 'Edav', 'Eref', 'dipZ', 'C0'], always=True)\n",
    "# drop the dipZ column\n",
    "dfterm.drop(columns=['dipZ'], inplace=True)\n",
    "print('Averaged terms from MRCI:')\n",
    "dfso = SOCI.assign_atomic_J(quiet=True)  # create SOCI.dfso\n",
    "Egl = SOCI.dfso.E.min()  # energy of ground level\n",
    "dfterm['Erel'] = (dfterm.Edav - Egl) * chem.AU2CM\n",
    "display(dfterm.style.format(fmt))\n",
    "print('\"ecm\"  is relative to the lowest term (cm-1)')\n",
    "print('\"Erel\" is relative to the ground level')"
   ]
  },
  {
   "cell_type": "code",
   "execution_count": 32,
   "metadata": {},
   "outputs": [],
   "source": [
    "irreps_ci = set(SOCI.dfci.Irrep)\n",
    "if (PG == 'Ci') and (len(irreps_ci) == 1):\n",
    "    if 1 in irreps_ci:\n",
    "        parity = 'even'\n",
    "    else:\n",
    "        parity = 'odd'"
   ]
  },
  {
   "cell_type": "code",
   "execution_count": 33,
   "metadata": {},
   "outputs": [],
   "source": [
    "def term_distrib(term, df):\n",
    "    # return the weights (including 2J+1) of term in levels\n",
    "    global SOCI\n",
    "    itarget = SOCI.dfterm[SOCI.dfterm.Term == term].index[0]\n",
    "    wt = [twt[itarget] for twt in df.termwt]  # without 2J+1 weighting\n",
    "    wt = wt * (2*df.J + 1)\n",
    "    return wt"
   ]
  },
  {
   "cell_type": "markdown",
   "metadata": {},
   "source": [
    "### Display the distribution of one term among levels"
   ]
  },
  {
   "cell_type": "code",
   "execution_count": 34,
   "metadata": {},
   "outputs": [],
   "source": [
    "term = '(1)2D'"
   ]
  },
  {
   "cell_type": "code",
   "execution_count": 35,
   "metadata": {},
   "outputs": [
    {
     "name": "stdout",
     "output_type": "stream",
     "text": [
      "Distribution of term \"(1)2D\" among levels:\n"
     ]
    },
    {
     "data": {
      "text/html": [
       "<style type=\"text/css\">\n",
       "</style>\n",
       "<table id=\"T_93b30\">\n",
       "  <thead>\n",
       "    <tr>\n",
       "      <th class=\"blank level0\" >&nbsp;</th>\n",
       "      <th id=\"T_93b30_level0_col0\" class=\"col_heading level0 col0\" >Lead</th>\n",
       "      <th id=\"T_93b30_level0_col1\" class=\"col_heading level0 col1\" >J</th>\n",
       "      <th id=\"T_93b30_level0_col2\" class=\"col_heading level0 col2\" >Jlbl</th>\n",
       "      <th id=\"T_93b30_level0_col3\" class=\"col_heading level0 col3\" >Erel</th>\n",
       "      <th id=\"T_93b30_level0_col4\" class=\"col_heading level0 col4\" >Eshift</th>\n",
       "      <th id=\"T_93b30_level0_col5\" class=\"col_heading level0 col5\" >E</th>\n",
       "      <th id=\"T_93b30_level0_col6\" class=\"col_heading level0 col6\" >Nr</th>\n",
       "      <th id=\"T_93b30_level0_col7\" class=\"col_heading level0 col7\" >(1)2D</th>\n",
       "      <th id=\"T_93b30_level0_col8\" class=\"col_heading level0 col8\" >Pct</th>\n",
       "      <th id=\"T_93b30_level0_col9\" class=\"col_heading level0 col9\" >eV</th>\n",
       "    </tr>\n",
       "  </thead>\n",
       "  <tbody>\n",
       "    <tr>\n",
       "      <th id=\"T_93b30_level0_row0\" class=\"row_heading level0 row0\" >0</th>\n",
       "      <td id=\"T_93b30_row0_col0\" class=\"data row0 col0\" >(1)2D</td>\n",
       "      <td id=\"T_93b30_row0_col1\" class=\"data row0 col1\" >2.5</td>\n",
       "      <td id=\"T_93b30_row0_col2\" class=\"data row0 col2\" >(1)2D_5/2</td>\n",
       "      <td id=\"T_93b30_row0_col3\" class=\"data row0 col3\" >0.0</td>\n",
       "      <td id=\"T_93b30_row0_col4\" class=\"data row0 col4\" >-628.1</td>\n",
       "      <td id=\"T_93b30_row0_col5\" class=\"data row0 col5\" >-1519.478788</td>\n",
       "      <td id=\"T_93b30_row0_col6\" class=\"data row0 col6\" >[1, 2, 3, 4, 5, 6]</td>\n",
       "      <td id=\"T_93b30_row0_col7\" class=\"data row0 col7\" >5.999810</td>\n",
       "      <td id=\"T_93b30_row0_col8\" class=\"data row0 col8\" >59.998</td>\n",
       "      <td id=\"T_93b30_row0_col9\" class=\"data row0 col9\" >-0.078</td>\n",
       "    </tr>\n",
       "    <tr>\n",
       "      <th id=\"T_93b30_level0_row1\" class=\"row_heading level0 row1\" >1</th>\n",
       "      <td id=\"T_93b30_row1_col0\" class=\"data row1 col0\" >(1)2D</td>\n",
       "      <td id=\"T_93b30_row1_col1\" class=\"data row1 col1\" >1.5</td>\n",
       "      <td id=\"T_93b30_row1_col2\" class=\"data row1 col2\" >(1)2D_3/2</td>\n",
       "      <td id=\"T_93b30_row1_col3\" class=\"data row1 col3\" >1569.3</td>\n",
       "      <td id=\"T_93b30_row1_col4\" class=\"data row1 col4\" >941.2</td>\n",
       "      <td id=\"T_93b30_row1_col5\" class=\"data row1 col5\" >-1519.471637</td>\n",
       "      <td id=\"T_93b30_row1_col6\" class=\"data row1 col6\" >[7, 8, 9, 10]</td>\n",
       "      <td id=\"T_93b30_row1_col7\" class=\"data row1 col7\" >3.999778</td>\n",
       "      <td id=\"T_93b30_row1_col8\" class=\"data row1 col8\" >39.998</td>\n",
       "      <td id=\"T_93b30_row1_col9\" class=\"data row1 col9\" >0.117</td>\n",
       "    </tr>\n",
       "    <tr>\n",
       "      <th id=\"T_93b30_level0_row2\" class=\"row_heading level0 row2\" >5</th>\n",
       "      <td id=\"T_93b30_row2_col0\" class=\"data row2 col0\" >(1)4F</td>\n",
       "      <td id=\"T_93b30_row2_col1\" class=\"data row2 col1\" >1.5</td>\n",
       "      <td id=\"T_93b30_row2_col2\" class=\"data row2 col2\" >(1)4F_3/2</td>\n",
       "      <td id=\"T_93b30_row2_col3\" class=\"data row2 col3\" >10550.5</td>\n",
       "      <td id=\"T_93b30_row2_col4\" class=\"data row2 col4\" >9922.4</td>\n",
       "      <td id=\"T_93b30_row2_col5\" class=\"data row2 col5\" >-1519.430716</td>\n",
       "      <td id=\"T_93b30_row2_col6\" class=\"data row2 col6\" >[35, 36, 37, 38]</td>\n",
       "      <td id=\"T_93b30_row2_col7\" class=\"data row2 col7\" >0.000217</td>\n",
       "      <td id=\"T_93b30_row2_col8\" class=\"data row2 col8\" >0.002</td>\n",
       "      <td id=\"T_93b30_row2_col9\" class=\"data row2 col9\" >1.230</td>\n",
       "    </tr>\n",
       "    <tr>\n",
       "      <th id=\"T_93b30_level0_row3\" class=\"row_heading level0 row3\" >4</th>\n",
       "      <td id=\"T_93b30_row3_col0\" class=\"data row3 col0\" >(1)4F</td>\n",
       "      <td id=\"T_93b30_row3_col1\" class=\"data row3 col1\" >2.5</td>\n",
       "      <td id=\"T_93b30_row3_col2\" class=\"data row3 col2\" >(1)4F_5/2</td>\n",
       "      <td id=\"T_93b30_row3_col3\" class=\"data row3 col3\" >9932.6</td>\n",
       "      <td id=\"T_93b30_row3_col4\" class=\"data row3 col4\" >9304.5</td>\n",
       "      <td id=\"T_93b30_row3_col5\" class=\"data row3 col5\" >-1519.433531</td>\n",
       "      <td id=\"T_93b30_row3_col6\" class=\"data row3 col6\" >[29, 30, 31, 32, 33, 34]</td>\n",
       "      <td id=\"T_93b30_row3_col7\" class=\"data row3 col7\" >0.000098</td>\n",
       "      <td id=\"T_93b30_row3_col8\" class=\"data row3 col8\" >0.001</td>\n",
       "      <td id=\"T_93b30_row3_col9\" class=\"data row3 col9\" >1.154</td>\n",
       "    </tr>\n",
       "    <tr>\n",
       "      <th id=\"T_93b30_level0_row4\" class=\"row_heading level0 row4\" >7</th>\n",
       "      <td id=\"T_93b30_row4_col0\" class=\"data row4 col0\" >(1)2F</td>\n",
       "      <td id=\"T_93b30_row4_col1\" class=\"data row4 col1\" >2.5</td>\n",
       "      <td id=\"T_93b30_row4_col2\" class=\"data row4 col2\" >(1)2F_5/2</td>\n",
       "      <td id=\"T_93b30_row4_col3\" class=\"data row4 col3\" >15205.4</td>\n",
       "      <td id=\"T_93b30_row4_col4\" class=\"data row4 col4\" >14577.3</td>\n",
       "      <td id=\"T_93b30_row4_col5\" class=\"data row4 col5\" >-1519.409507</td>\n",
       "      <td id=\"T_93b30_row4_col6\" class=\"data row4 col6\" >[47, 48, 49, 50, 51, 52]</td>\n",
       "      <td id=\"T_93b30_row4_col7\" class=\"data row4 col7\" >0.000051</td>\n",
       "      <td id=\"T_93b30_row4_col8\" class=\"data row4 col8\" >0.001</td>\n",
       "      <td id=\"T_93b30_row4_col9\" class=\"data row4 col9\" >1.807</td>\n",
       "    </tr>\n",
       "    <tr>\n",
       "      <th id=\"T_93b30_level0_row5\" class=\"row_heading level0 row5\" >8</th>\n",
       "      <td id=\"T_93b30_row5_col0\" class=\"data row5 col0\" >(1)4P</td>\n",
       "      <td id=\"T_93b30_row5_col1\" class=\"data row5 col1\" >2.5</td>\n",
       "      <td id=\"T_93b30_row5_col2\" class=\"data row5 col2\" >(1)4P_5/2</td>\n",
       "      <td id=\"T_93b30_row5_col3\" class=\"data row5 col3\" >23852.9</td>\n",
       "      <td id=\"T_93b30_row5_col4\" class=\"data row5 col4\" >23224.8</td>\n",
       "      <td id=\"T_93b30_row5_col5\" class=\"data row5 col5\" >-1519.370106</td>\n",
       "      <td id=\"T_93b30_row5_col6\" class=\"data row5 col6\" >[53, 54, 55, 56, 57, 58]</td>\n",
       "      <td id=\"T_93b30_row5_col7\" class=\"data row5 col7\" >0.000041</td>\n",
       "      <td id=\"T_93b30_row5_col8\" class=\"data row5 col8\" >0.000</td>\n",
       "      <td id=\"T_93b30_row5_col9\" class=\"data row5 col9\" >2.880</td>\n",
       "    </tr>\n",
       "    <tr>\n",
       "      <th id=\"T_93b30_level0_row6\" class=\"row_heading level0 row6\" >9</th>\n",
       "      <td id=\"T_93b30_row6_col0\" class=\"data row6 col0\" >(1)4P</td>\n",
       "      <td id=\"T_93b30_row6_col1\" class=\"data row6 col1\" >1.5</td>\n",
       "      <td id=\"T_93b30_row6_col2\" class=\"data row6 col2\" >(1)4P_3/2</td>\n",
       "      <td id=\"T_93b30_row6_col3\" class=\"data row6 col3\" >24465.8</td>\n",
       "      <td id=\"T_93b30_row6_col4\" class=\"data row6 col4\" >23837.7</td>\n",
       "      <td id=\"T_93b30_row6_col5\" class=\"data row6 col5\" >-1519.367313</td>\n",
       "      <td id=\"T_93b30_row6_col6\" class=\"data row6 col6\" >[59, 60, 61, 62]</td>\n",
       "      <td id=\"T_93b30_row6_col7\" class=\"data row6 col7\" >0.000005</td>\n",
       "      <td id=\"T_93b30_row6_col8\" class=\"data row6 col8\" >0.000</td>\n",
       "      <td id=\"T_93b30_row6_col9\" class=\"data row6 col9\" >2.956</td>\n",
       "    </tr>\n",
       "  </tbody>\n",
       "</table>\n"
      ],
      "text/plain": [
       "<pandas.io.formats.style.Styler at 0x17c66c9bd90>"
      ]
     },
     "metadata": {},
     "output_type": "display_data"
    },
    {
     "name": "stdout",
     "output_type": "stream",
     "text": [
      "Total weight of (1)2D = 10.000\n",
      "Column \"Eshift\" is relative to the ground term, in cm-1.  \"eV\" is the same quantity.\n"
     ]
    }
   ],
   "source": [
    "print(f'Distribution of term \"{term}\" among levels:')\n",
    "thrsh = 1.e-6\n",
    "dfdistrib = dfso.copy()\n",
    "dfdistrib[term] = term_distrib(term, dfso)\n",
    "dfdistrib['Pct'] = dfdistrib[term] * 100 / dfdistrib[term].sum()\n",
    "# add column with Eshift expressed in eV\n",
    "dfdistrib['eV'] = dfdistrib['Eshift'] / chem.EV2CM\n",
    "# remove rows with negligible weights\n",
    "dfdistrib = dfdistrib[dfdistrib[term] > thrsh]\n",
    "dfdistrib.drop(['termwt', 'Composition'], axis=1, inplace=True)\n",
    "display(dfdistrib.sort_values(term, ascending=False).style.format(fmt))\n",
    "print(f'Total weight of {term} = {dfdistrib[term].sum():.3f}')\n",
    "print('Column \"Eshift\" is relative to the ground term, in cm-1.  \"eV\" is the same quantity.')"
   ]
  },
  {
   "cell_type": "code",
   "execution_count": null,
   "metadata": {},
   "outputs": [],
   "source": []
  },
  {
   "cell_type": "code",
   "execution_count": null,
   "metadata": {},
   "outputs": [],
   "source": []
  },
  {
   "cell_type": "code",
   "execution_count": 37,
   "metadata": {},
   "outputs": [
    {
     "name": "stdout",
     "output_type": "stream",
     "text": [
      "All levels\n"
     ]
    },
    {
     "data": {
      "text/html": [
       "<style type=\"text/css\">\n",
       "</style>\n",
       "<table id=\"T_094fd\">\n",
       "  <thead>\n",
       "    <tr>\n",
       "      <th class=\"blank level0\" >&nbsp;</th>\n",
       "      <th id=\"T_094fd_level0_col0\" class=\"col_heading level0 col0\" >Lead</th>\n",
       "      <th id=\"T_094fd_level0_col1\" class=\"col_heading level0 col1\" >J</th>\n",
       "      <th id=\"T_094fd_level0_col2\" class=\"col_heading level0 col2\" >Jlbl</th>\n",
       "      <th id=\"T_094fd_level0_col3\" class=\"col_heading level0 col3\" >Erel</th>\n",
       "      <th id=\"T_094fd_level0_col4\" class=\"col_heading level0 col4\" >Eshift</th>\n",
       "      <th id=\"T_094fd_level0_col5\" class=\"col_heading level0 col5\" >Composition</th>\n",
       "      <th id=\"T_094fd_level0_col6\" class=\"col_heading level0 col6\" >E</th>\n",
       "      <th id=\"T_094fd_level0_col7\" class=\"col_heading level0 col7\" >Nr</th>\n",
       "      <th id=\"T_094fd_level0_col8\" class=\"col_heading level0 col8\" >termwt</th>\n",
       "    </tr>\n",
       "  </thead>\n",
       "  <tbody>\n",
       "    <tr>\n",
       "      <th id=\"T_094fd_level0_row0\" class=\"row_heading level0 row0\" >0</th>\n",
       "      <td id=\"T_094fd_row0_col0\" class=\"data row0 col0\" >(1)2D</td>\n",
       "      <td id=\"T_094fd_row0_col1\" class=\"data row0 col1\" >2.5</td>\n",
       "      <td id=\"T_094fd_row0_col2\" class=\"data row0 col2\" >(1)2D_5/2</td>\n",
       "      <td id=\"T_094fd_row0_col3\" class=\"data row0 col3\" >0.0</td>\n",
       "      <td id=\"T_094fd_row0_col4\" class=\"data row0 col4\" >-628.1</td>\n",
       "      <td id=\"T_094fd_row0_col5\" class=\"data row0 col5\" >{'(1)2D': 1.0}</td>\n",
       "      <td id=\"T_094fd_row0_col6\" class=\"data row0 col6\" >-1519.478788</td>\n",
       "      <td id=\"T_094fd_row0_col7\" class=\"data row0 col7\" >[1, 2, 3, 4, 5, 6]</td>\n",
       "      <td id=\"T_094fd_row0_col8\" class=\"data row0 col8\" >[0.99996838 0.00001842 0.00000628 0.00000691]</td>\n",
       "    </tr>\n",
       "    <tr>\n",
       "      <th id=\"T_094fd_level0_row1\" class=\"row_heading level0 row1\" >1</th>\n",
       "      <td id=\"T_094fd_row1_col0\" class=\"data row1 col0\" >(1)2D</td>\n",
       "      <td id=\"T_094fd_row1_col1\" class=\"data row1 col1\" >1.5</td>\n",
       "      <td id=\"T_094fd_row1_col2\" class=\"data row1 col2\" >(1)2D_3/2</td>\n",
       "      <td id=\"T_094fd_row1_col3\" class=\"data row1 col3\" >1569.3</td>\n",
       "      <td id=\"T_094fd_row1_col4\" class=\"data row1 col4\" >941.2</td>\n",
       "      <td id=\"T_094fd_row1_col5\" class=\"data row1 col5\" >{'(1)2D': 1.0}</td>\n",
       "      <td id=\"T_094fd_row1_col6\" class=\"data row1 col6\" >-1519.471637</td>\n",
       "      <td id=\"T_094fd_row1_col7\" class=\"data row1 col7\" >[7, 8, 9, 10]</td>\n",
       "      <td id=\"T_094fd_row1_col8\" class=\"data row1 col8\" >[0.99994452 0.00005423 0.         0.00000125]</td>\n",
       "    </tr>\n",
       "    <tr>\n",
       "      <th id=\"T_094fd_level0_row2\" class=\"row_heading level0 row2\" >2</th>\n",
       "      <td id=\"T_094fd_row2_col0\" class=\"data row2 col0\" >(1)4F</td>\n",
       "      <td id=\"T_094fd_row2_col1\" class=\"data row2 col1\" >4.5</td>\n",
       "      <td id=\"T_094fd_row2_col2\" class=\"data row2 col2\" >(1)4F_9/2</td>\n",
       "      <td id=\"T_094fd_row2_col3\" class=\"data row2 col3\" >8156.7</td>\n",
       "      <td id=\"T_094fd_row2_col4\" class=\"data row2 col4\" >7528.5</td>\n",
       "      <td id=\"T_094fd_row2_col5\" class=\"data row2 col5\" >{'(1)4F': 1.0}</td>\n",
       "      <td id=\"T_094fd_row2_col6\" class=\"data row2 col6\" >-1519.441623</td>\n",
       "      <td id=\"T_094fd_row2_col7\" class=\"data row2 col7\" >[11, 12, 13, 14, 15, 16, 17, 18, 19, 20]</td>\n",
       "      <td id=\"T_094fd_row2_col8\" class=\"data row2 col8\" >[0. 1. 0. 0.]</td>\n",
       "    </tr>\n",
       "    <tr>\n",
       "      <th id=\"T_094fd_level0_row3\" class=\"row_heading level0 row3\" >3</th>\n",
       "      <td id=\"T_094fd_row3_col0\" class=\"data row3 col0\" >(1)4F</td>\n",
       "      <td id=\"T_094fd_row3_col1\" class=\"data row3 col1\" >3.5</td>\n",
       "      <td id=\"T_094fd_row3_col2\" class=\"data row3 col2\" >(1)4F_7/2</td>\n",
       "      <td id=\"T_094fd_row3_col3\" class=\"data row3 col3\" >9107.1</td>\n",
       "      <td id=\"T_094fd_row3_col4\" class=\"data row3 col4\" >8479.0</td>\n",
       "      <td id=\"T_094fd_row3_col5\" class=\"data row3 col5\" >{'(1)4F': 0.98, '(1)2F': 0.02}</td>\n",
       "      <td id=\"T_094fd_row3_col6\" class=\"data row3 col6\" >-1519.437293</td>\n",
       "      <td id=\"T_094fd_row3_col7\" class=\"data row3 col7\" >[21, 22, 23, 24, 25, 26, 27, 28]</td>\n",
       "      <td id=\"T_094fd_row3_col8\" class=\"data row3 col8\" >[0.        0.9834509 0.0165491 0.       ]</td>\n",
       "    </tr>\n",
       "    <tr>\n",
       "      <th id=\"T_094fd_level0_row4\" class=\"row_heading level0 row4\" >4</th>\n",
       "      <td id=\"T_094fd_row4_col0\" class=\"data row4 col0\" >(1)4F</td>\n",
       "      <td id=\"T_094fd_row4_col1\" class=\"data row4 col1\" >2.5</td>\n",
       "      <td id=\"T_094fd_row4_col2\" class=\"data row4 col2\" >(1)4F_5/2</td>\n",
       "      <td id=\"T_094fd_row4_col3\" class=\"data row4 col3\" >9932.6</td>\n",
       "      <td id=\"T_094fd_row4_col4\" class=\"data row4 col4\" >9304.5</td>\n",
       "      <td id=\"T_094fd_row4_col5\" class=\"data row4 col5\" >{'(1)4F': 0.99}</td>\n",
       "      <td id=\"T_094fd_row4_col6\" class=\"data row4 col6\" >-1519.433531</td>\n",
       "      <td id=\"T_094fd_row4_col7\" class=\"data row4 col7\" >[29, 30, 31, 32, 33, 34]</td>\n",
       "      <td id=\"T_094fd_row4_col8\" class=\"data row4 col8\" >[0.00001628 0.99092693 0.00905679 0.        ]</td>\n",
       "    </tr>\n",
       "    <tr>\n",
       "      <th id=\"T_094fd_level0_row5\" class=\"row_heading level0 row5\" >5</th>\n",
       "      <td id=\"T_094fd_row5_col0\" class=\"data row5 col0\" >(1)4F</td>\n",
       "      <td id=\"T_094fd_row5_col1\" class=\"data row5 col1\" >1.5</td>\n",
       "      <td id=\"T_094fd_row5_col2\" class=\"data row5 col2\" >(1)4F_3/2</td>\n",
       "      <td id=\"T_094fd_row5_col3\" class=\"data row5 col3\" >10550.5</td>\n",
       "      <td id=\"T_094fd_row5_col4\" class=\"data row5 col4\" >9922.4</td>\n",
       "      <td id=\"T_094fd_row5_col5\" class=\"data row5 col5\" >{'(1)4F': 1.0}</td>\n",
       "      <td id=\"T_094fd_row5_col6\" class=\"data row5 col6\" >-1519.430716</td>\n",
       "      <td id=\"T_094fd_row5_col7\" class=\"data row5 col7\" >[35, 36, 37, 38]</td>\n",
       "      <td id=\"T_094fd_row5_col8\" class=\"data row5 col8\" >[0.00005423 0.99994577 0.         0.        ]</td>\n",
       "    </tr>\n",
       "    <tr>\n",
       "      <th id=\"T_094fd_level0_row6\" class=\"row_heading level0 row6\" >6</th>\n",
       "      <td id=\"T_094fd_row6_col0\" class=\"data row6 col0\" >(1)2F</td>\n",
       "      <td id=\"T_094fd_row6_col1\" class=\"data row6 col1\" >3.5</td>\n",
       "      <td id=\"T_094fd_row6_col2\" class=\"data row6 col2\" >(1)2F_7/2</td>\n",
       "      <td id=\"T_094fd_row6_col3\" class=\"data row6 col3\" >13655.0</td>\n",
       "      <td id=\"T_094fd_row6_col4\" class=\"data row6 col4\" >13026.9</td>\n",
       "      <td id=\"T_094fd_row6_col5\" class=\"data row6 col5\" >{'(1)4F': 0.02, '(1)2F': 0.98}</td>\n",
       "      <td id=\"T_094fd_row6_col6\" class=\"data row6 col6\" >-1519.416571</td>\n",
       "      <td id=\"T_094fd_row6_col7\" class=\"data row6 col7\" >[39, 40, 41, 42, 43, 44, 45, 46]</td>\n",
       "      <td id=\"T_094fd_row6_col8\" class=\"data row6 col8\" >[0.         0.01654911 0.98345089 0.        ]</td>\n",
       "    </tr>\n",
       "    <tr>\n",
       "      <th id=\"T_094fd_level0_row7\" class=\"row_heading level0 row7\" >7</th>\n",
       "      <td id=\"T_094fd_row7_col0\" class=\"data row7 col0\" >(1)2F</td>\n",
       "      <td id=\"T_094fd_row7_col1\" class=\"data row7 col1\" >2.5</td>\n",
       "      <td id=\"T_094fd_row7_col2\" class=\"data row7 col2\" >(1)2F_5/2</td>\n",
       "      <td id=\"T_094fd_row7_col3\" class=\"data row7 col3\" >15205.4</td>\n",
       "      <td id=\"T_094fd_row7_col4\" class=\"data row7 col4\" >14577.3</td>\n",
       "      <td id=\"T_094fd_row7_col5\" class=\"data row7 col5\" >{'(1)2F': 0.99}</td>\n",
       "      <td id=\"T_094fd_row7_col6\" class=\"data row7 col6\" >-1519.409507</td>\n",
       "      <td id=\"T_094fd_row7_col7\" class=\"data row7 col7\" >[47, 48, 49, 50, 51, 52]</td>\n",
       "      <td id=\"T_094fd_row7_col8\" class=\"data row7 col8\" >[0.00000843 0.00905464 0.99093692 0.        ]</td>\n",
       "    </tr>\n",
       "    <tr>\n",
       "      <th id=\"T_094fd_level0_row8\" class=\"row_heading level0 row8\" >8</th>\n",
       "      <td id=\"T_094fd_row8_col0\" class=\"data row8 col0\" >(1)4P</td>\n",
       "      <td id=\"T_094fd_row8_col1\" class=\"data row8 col1\" >2.5</td>\n",
       "      <td id=\"T_094fd_row8_col2\" class=\"data row8 col2\" >(1)4P_5/2</td>\n",
       "      <td id=\"T_094fd_row8_col3\" class=\"data row8 col3\" >23852.9</td>\n",
       "      <td id=\"T_094fd_row8_col4\" class=\"data row8 col4\" >23224.8</td>\n",
       "      <td id=\"T_094fd_row8_col5\" class=\"data row8 col5\" >{'(1)4P': 1.0}</td>\n",
       "      <td id=\"T_094fd_row8_col6\" class=\"data row8 col6\" >-1519.370106</td>\n",
       "      <td id=\"T_094fd_row8_col7\" class=\"data row8 col7\" >[53, 54, 55, 56, 57, 58]</td>\n",
       "      <td id=\"T_094fd_row8_col8\" class=\"data row8 col8\" >[0.00000691 0.         0.         0.99999309]</td>\n",
       "    </tr>\n",
       "    <tr>\n",
       "      <th id=\"T_094fd_level0_row9\" class=\"row_heading level0 row9\" >9</th>\n",
       "      <td id=\"T_094fd_row9_col0\" class=\"data row9 col0\" >(1)4P</td>\n",
       "      <td id=\"T_094fd_row9_col1\" class=\"data row9 col1\" >1.5</td>\n",
       "      <td id=\"T_094fd_row9_col2\" class=\"data row9 col2\" >(1)4P_3/2</td>\n",
       "      <td id=\"T_094fd_row9_col3\" class=\"data row9 col3\" >24465.8</td>\n",
       "      <td id=\"T_094fd_row9_col4\" class=\"data row9 col4\" >23837.7</td>\n",
       "      <td id=\"T_094fd_row9_col5\" class=\"data row9 col5\" >{'(1)4P': 1.0}</td>\n",
       "      <td id=\"T_094fd_row9_col6\" class=\"data row9 col6\" >-1519.367313</td>\n",
       "      <td id=\"T_094fd_row9_col7\" class=\"data row9 col7\" >[59, 60, 61, 62]</td>\n",
       "      <td id=\"T_094fd_row9_col8\" class=\"data row9 col8\" >[0.00000125 0.         0.         0.99999875]</td>\n",
       "    </tr>\n",
       "    <tr>\n",
       "      <th id=\"T_094fd_level0_row10\" class=\"row_heading level0 row10\" >10</th>\n",
       "      <td id=\"T_094fd_row10_col0\" class=\"data row10 col0\" >(1)4P</td>\n",
       "      <td id=\"T_094fd_row10_col1\" class=\"data row10 col1\" >0.5</td>\n",
       "      <td id=\"T_094fd_row10_col2\" class=\"data row10 col2\" >(1)4P_1/2</td>\n",
       "      <td id=\"T_094fd_row10_col3\" class=\"data row10 col3\" >24833.7</td>\n",
       "      <td id=\"T_094fd_row10_col4\" class=\"data row10 col4\" >24205.6</td>\n",
       "      <td id=\"T_094fd_row10_col5\" class=\"data row10 col5\" >{'(1)4P': 1.0}</td>\n",
       "      <td id=\"T_094fd_row10_col6\" class=\"data row10 col6\" >-1519.365637</td>\n",
       "      <td id=\"T_094fd_row10_col7\" class=\"data row10 col7\" >[63, 64]</td>\n",
       "      <td id=\"T_094fd_row10_col8\" class=\"data row10 col8\" >[0. 0. 0. 1.]</td>\n",
       "    </tr>\n",
       "  </tbody>\n",
       "</table>\n"
      ],
      "text/plain": [
       "<pandas.io.formats.style.Styler at 0x17c656d7490>"
      ]
     },
     "execution_count": 37,
     "metadata": {},
     "output_type": "execute_result"
    }
   ],
   "source": [
    "print('All levels')\n",
    "dfso.style.format(fmt)"
   ]
  },
  {
   "cell_type": "code",
   "execution_count": null,
   "metadata": {},
   "outputs": [],
   "source": []
  }
 ],
 "metadata": {
  "kernelspec": {
   "display_name": "Python 3 (ipykernel)",
   "language": "python",
   "name": "python3"
  },
  "language_info": {
   "codemirror_mode": {
    "name": "ipython",
    "version": 3
   },
   "file_extension": ".py",
   "mimetype": "text/x-python",
   "name": "python",
   "nbconvert_exporter": "python",
   "pygments_lexer": "ipython3",
   "version": "3.11.4"
  }
 },
 "nbformat": 4,
 "nbformat_minor": 2
}
