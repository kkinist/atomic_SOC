{
 "cells": [
  {
   "cell_type": "markdown",
   "metadata": {},
   "source": [
    "## Determine LS atomic term symbols and Irreps(D2h) for specified orbital occupation"
   ]
  },
  {
   "cell_type": "code",
   "execution_count": 1,
   "metadata": {},
   "outputs": [],
   "source": [
    "# No principal quantum number included\n",
    "# KKI 8/13/2018, add D2h irreps 5/23/2022\n",
    "import numpy, pandas, sys\n",
    "sys.path.insert(0, '../karlib')\n",
    "import chem_subs as chem"
   ]
  },
  {
   "cell_type": "code",
   "execution_count": 2,
   "metadata": {},
   "outputs": [],
   "source": [
    "# enter the number of electrons in each orbital type (spdf)\n",
    "ns = 0\n",
    "np = 3\n",
    "nd = 0\n",
    "nf = 0"
   ]
  },
  {
   "cell_type": "code",
   "execution_count": 3,
   "metadata": {},
   "outputs": [],
   "source": [
    "occ = [ns, np, nd, nf]\n",
    "orbstr = ['s', 'p', 'd', 'f']\n",
    "orbirrep = [ ['Ag'], ['B1u', 'B2u', 'B3u'], ['Ag', 'Ag', 'B1g', 'B2g', 'B3g'],\n",
    "             ['Au', 'B1u', 'B1u', 'B2u', 'B2u', 'B3u', 'B3u'] ]\n",
    "Lstr = ['S', 'P', 'D', 'F', 'G', 'H', 'I']\n",
    "maxl = len(orbstr) - 1\n",
    "maxL = len(Lstr) - 1"
   ]
  },
  {
   "cell_type": "code",
   "execution_count": 4,
   "metadata": {},
   "outputs": [
    {
     "name": "stdout",
     "output_type": "stream",
     "text": [
      "3 electrons\n",
      "Orbital occupation: p3\n"
     ]
    }
   ],
   "source": [
    "occstr = ''\n",
    "for j in range(len(orbstr)):  # 'j' actually means 'l', but 'l' is not an ergonomic variable name\n",
    "    if occ[j] > 0:\n",
    "        if occ[j] > 2 * (2*j+1):\n",
    "            print(\"You can't put {:d} electrons into the {:s} shell\".format(occ[j], orbstr[j]))\n",
    "            xit = 1/0\n",
    "        occstr += '{:s}{:d}'.format(orbstr[j], occ[j])\n",
    "nelec = sum(occ)\n",
    "print('{:d} electrons'.format(nelec))\n",
    "print('Orbital occupation: {:s}'.format(occstr))"
   ]
  },
  {
   "cell_type": "code",
   "execution_count": 5,
   "metadata": {},
   "outputs": [],
   "source": [
    "def build_occlist(j, nelec, k=0, filled=None):\n",
    "    # make a list of all possible occupation vectors for \n",
    "    # angular momentum = j, # of electrons = nelec\n",
    "    # recursive: 'filled' is an occupation vector for previous electrons\n",
    "    # 'k' is the index of the previous electron; the added electron must\n",
    "    # be added later, i.e., with a higher index\n",
    "    ncol = 2 * (2*j + 1)  # all combinations of spin (+- 1/2) and mj\n",
    "    if nelec == 0:\n",
    "        # no electrons at all\n",
    "        return numpy.zeros(ncol)\n",
    "    #\n",
    "    #print(f'** j={j}, nelec={nelec}, ncol={ncol}, k={k}, filled={filled}')\n",
    "    #\n",
    "    if filled is None:\n",
    "        # no previous electrons\n",
    "        filled = numpy.zeros(ncol)\n",
    "    occlist = []\n",
    "    # must leave room at the end for the other electrons\n",
    "    imax = ncol - (nelec-1)\n",
    "    for i in range(k, imax):\n",
    "        if filled[i] == 0:\n",
    "            # can put an electron here\n",
    "            nplus1 = filled.copy()\n",
    "            nplus1[i] = 1\n",
    "            if nelec == 1:\n",
    "                # this is the last electron\n",
    "                occlist.append(nplus1.copy())\n",
    "            else:\n",
    "                # put the next electron anywhere remaining\n",
    "                newocc = build_occlist(j, nelec-1, k=i+1, filled=nplus1)\n",
    "                #print('nelec={:d}'.format(nelec), newocc)\n",
    "                occlist.extend(newocc)\n",
    "    return numpy.array(occlist)"
   ]
  },
  {
   "cell_type": "code",
   "execution_count": 6,
   "metadata": {},
   "outputs": [],
   "source": [
    "# generate all possible occupation vectors\n",
    "occv = []  # list of arrays\n",
    "for l in range(maxl+1):\n",
    "    occl = build_occlist(l, occ[l])\n",
    "    occv.append(occl)\n",
    "    #print('l = {:d}:\\n'.format(l), occl)"
   ]
  },
  {
   "cell_type": "code",
   "execution_count": 7,
   "metadata": {},
   "outputs": [],
   "source": [
    "def d2h_product(irr1, irr2):\n",
    "    # given two irrep labels (strings like 'B1g') in D2h, return their product\n",
    "    irr1 = irr1.lower()\n",
    "    irr2 = irr2.lower()\n",
    "    # equality\n",
    "    if irr1 == irr2:\n",
    "        return 'Ag'\n",
    "    # inversion\n",
    "    if irr1[-1] == irr2[-1]:\n",
    "        parity = 'g'\n",
    "    else:\n",
    "        parity = 'u'\n",
    "    # principal rotation\n",
    "    rots = set([irr1[0], irr2[0]])\n",
    "    if (len(rots) == 1) and ('A' in rots):\n",
    "        # both are 'A'\n",
    "        rotat = 'A'\n",
    "    else:\n",
    "        # different, or both are 'B'\n",
    "        rotat = 'B'\n",
    "    # axis\n",
    "    ax1 = ax2 = 0\n",
    "    if len(irr1) == 3:\n",
    "        ax1 = int(irr1[1])\n",
    "    if len(irr2) == 3:\n",
    "        ax2 = int(irr2[1])\n",
    "    if ax1 == ax2:\n",
    "        # equal\n",
    "        ax = 0\n",
    "    elif ax1 * ax2 == 0:\n",
    "        # one has no axis (it should be 'A')\n",
    "        ax = ax1 + ax2\n",
    "    else:\n",
    "        # two axes are different\n",
    "        ax = (set([1, 2, 3]) - set([ax1, ax2])).pop()\n",
    "    prod = rotat + str(ax) + parity\n",
    "    if prod == 'B0u':\n",
    "        prod = 'Au'\n",
    "    #print(f'\\t\\t{irr1} x {irr2} = {prod}')\n",
    "    return prod"
   ]
  },
  {
   "cell_type": "code",
   "execution_count": 8,
   "metadata": {},
   "outputs": [],
   "source": [
    "def d2h_occup(occ, orbirrep):\n",
    "    # return D2h product for occupation string ordered by 'l'\n",
    "    #print('occ =', occ)\n",
    "    #print('\\torbirrep = ', orbirrep)\n",
    "    irr = 'Ag'\n",
    "    for j, nel in enumerate(occ):\n",
    "        # 'nel' can be zero or one (# of electrons)\n",
    "        if nel:\n",
    "            irr = d2h_product(irr, orbirrep[j])\n",
    "    #print('\\tproduct =', irr)\n",
    "    return irr"
   ]
  },
  {
   "cell_type": "code",
   "execution_count": 9,
   "metadata": {
    "scrolled": false
   },
   "outputs": [],
   "source": [
    "# for each l, compute L and S and irrep for each occupation vector\n",
    "ms = numpy.array([-0.5, 0.5])  # array of ms values; same for all l\n",
    "MLMS = []\n",
    "irreps = []  # irrep for each occupation vector\n",
    "for l in range(maxl+1):\n",
    "    LSlist = []\n",
    "    irrlist = []\n",
    "    nvec = 1\n",
    "    if len(occv[l].shape) == 2:\n",
    "        nvec = occv[l].shape[0]\n",
    "    #print('{:d} vectors for l = {:d}'.format(nvec, l))\n",
    "    # array of ml values\n",
    "    ml = numpy.arange(-l, l+0.1, 1)\n",
    "    # loop over occupation vectors\n",
    "    for irow in range(nvec):\n",
    "        # reshape vector to two rows; top is ms=-1/2\n",
    "        if nvec == 1:\n",
    "            # only one vector\n",
    "            mvec = occv[l].reshape((2,-1))\n",
    "        else:\n",
    "            mvec = occv[l][irow].reshape((2, -1))\n",
    "        ML = numpy.dot(mvec.sum(axis=0), ml)\n",
    "        irrepA = d2h_occup(mvec[0,:], orbirrep[l]) # alpha spins\n",
    "        irrepB = d2h_occup(mvec[1,:], orbirrep[l]) # beta spins\n",
    "        irrep = d2h_product(irrepA, irrepB)\n",
    "        irrlist.append(irrep)\n",
    "        MS = numpy.dot(mvec.sum(axis=1), ms)\n",
    "        LSlist.append([ML, MS])\n",
    "    MLMS.append(numpy.array(LSlist))\n",
    "    irreps.append(irrlist)\n",
    "    #print('>>>l = ', l)\n",
    "    #print(MLMS[-1])\n",
    "    #print(irreps[-1])"
   ]
  },
  {
   "cell_type": "code",
   "execution_count": 10,
   "metadata": {},
   "outputs": [],
   "source": [
    "# add up all combinations across shells (l values)\n",
    "def MLMSproduct(MLMS, l=None, prev=[]):\n",
    "    # recursive; need all combinations across l values\n",
    "    # args: l = current value of l\n",
    "    #       prev = list of existing (partial) products (ML, MS) pairs\n",
    "    if l is None:\n",
    "        # this is the top level; just call the next l down\n",
    "        l = maxl\n",
    "        prev = MLMS[l]\n",
    "    else:\n",
    "        # combine current list with previous\n",
    "        newlist = []\n",
    "        for pML in prev:\n",
    "            for ML in MLMS[l]:\n",
    "                newlist.append(pML + ML)\n",
    "        prev = numpy.array(newlist)\n",
    "    if l > 0:\n",
    "        # recursive call to next lower l\n",
    "        LStot = MLMSproduct(MLMS, l-1, prev)\n",
    "        return LStot\n",
    "    else:\n",
    "        # this is the bottom (l=0)\n",
    "        return prev"
   ]
  },
  {
   "cell_type": "code",
   "execution_count": 11,
   "metadata": {},
   "outputs": [],
   "source": [
    "# add up all combinations across shells (l values)\n",
    "def state_irrep(irreps, l=None, prev=[]):\n",
    "    # recursive; need all combinations across l values\n",
    "    # args: l = current value of l\n",
    "    #       prev = list of existing (partial) state irreps\n",
    "    if l is None:\n",
    "        # this is the top level; just call the next l down\n",
    "        l = maxl\n",
    "        prev = irreps[l]\n",
    "    else:\n",
    "        # combine current list with previous\n",
    "        newlist = []\n",
    "        for irrp in prev:\n",
    "            for irr in irreps[l]:\n",
    "                newlist.append(d2h_product(irrp, irr))\n",
    "        prev = numpy.array(newlist)\n",
    "    if l > 0:\n",
    "        # recursive call to next lower l\n",
    "        irrtot = state_irrep(irreps, l-1, prev)\n",
    "        return irrtot\n",
    "    else:\n",
    "        # this is the bottom (l=0)\n",
    "        return prev"
   ]
  },
  {
   "cell_type": "code",
   "execution_count": 12,
   "metadata": {},
   "outputs": [
    {
     "name": "stdout",
     "output_type": "stream",
     "text": [
      "Found 20 microstates for p3\n"
     ]
    }
   ],
   "source": [
    "# add up all combinations across shells (l values)\n",
    "MLMStot = MLMSproduct(MLMS)\n",
    "print('Found {:d} microstates for {:s}'.format(MLMStot.shape[0], occstr))\n",
    "#print(MLMStot)"
   ]
  },
  {
   "cell_type": "code",
   "execution_count": 13,
   "metadata": {},
   "outputs": [
    {
     "name": "stdout",
     "output_type": "stream",
     "text": [
      "Found 20 state irreps\n"
     ]
    }
   ],
   "source": [
    "# multiply irreps across shells (l values)\n",
    "irrtot = state_irrep(irreps)\n",
    "print('Found {:d} state irreps'.format(len(irrtot)))\n",
    "#print(irrtot)"
   ]
  },
  {
   "cell_type": "code",
   "execution_count": 14,
   "metadata": {},
   "outputs": [],
   "source": [
    "# encode the (ML, MS) pairs as complex numbers\n",
    "cplx = numpy.dot(MLMStot, [1, 1j])"
   ]
  },
  {
   "cell_type": "code",
   "execution_count": 15,
   "metadata": {},
   "outputs": [],
   "source": [
    "def create_symbol(L, S, jvals=True):\n",
    "    # return a (string) term symbol\n",
    "    term = '{:d}{:s}'.format(int(round(2*S + 1)), Lstr[int(L)])\n",
    "    if jvals:\n",
    "        # include parenthetical values of J\n",
    "        minj2 = int(round(2*abs(L - S)))\n",
    "        maxj2 = int(round(2*(L + S)))\n",
    "        jlist = []\n",
    "        isodd = minj2 & 0x1\n",
    "        for j2 in range(maxj2, minj2-1, -2):\n",
    "            if isodd:\n",
    "                jlist.append('{:d}/2'.format(j2))\n",
    "            else:\n",
    "                jlist.append('{:d}'.format(j2//2))\n",
    "        term += '({:s})'.format(','.join(jlist))\n",
    "    return term"
   ]
  },
  {
   "cell_type": "code",
   "execution_count": 16,
   "metadata": {},
   "outputs": [],
   "source": [
    "# assign the states to term symbols\n",
    "maxiter = 100\n",
    "niter = 0\n",
    "symbols = []\n",
    "idx = []  # indices into original arrays, including 'cplx'\n",
    "ordlist = list(range(cplx.shape[0]))\n",
    "while (cplx.shape[0] > 0) and (niter < maxiter):\n",
    "    Smax = cplx.imag.max()\n",
    "    imax = numpy.where(numpy.isclose(cplx.imag, Smax))\n",
    "    Lmax = cplx[imax].real.max()\n",
    "    term = create_symbol(Lmax, Smax)\n",
    "    # delete the (ML, MS) pairs that correspond to this term\n",
    "    compon = []\n",
    "    for ML in numpy.arange(-Lmax, Lmax+0.1, 1):\n",
    "        for MS in numpy.arange(-Smax, Smax+0.1, 1):\n",
    "            compon.append(ML + MS * 1j)\n",
    "    termidx = []\n",
    "    for c in compon:\n",
    "        for ipair in range(cplx.shape[0]):\n",
    "            if numpy.isclose(cplx[ipair], c):\n",
    "                cplx = numpy.delete(cplx, ipair)\n",
    "                termidx.append(ordlist.pop(ipair))\n",
    "                break\n",
    "    symbols.append(term)\n",
    "    idx.append(numpy.array(termidx))\n",
    "    niter += 1"
   ]
  },
  {
   "cell_type": "code",
   "execution_count": 17,
   "metadata": {
    "scrolled": true
   },
   "outputs": [
    {
     "name": "stdout",
     "output_type": "stream",
     "text": [
      "Term symbols for p3: \n",
      "\t4S(3/2)\n",
      "\t2D(5/2,3/2)\n",
      "\t2P(3/2,1/2)\n"
     ]
    }
   ],
   "source": [
    "print('Term symbols for {:s}:'.format(occstr), '\\n\\t'.join([''] + symbols))"
   ]
  },
  {
   "cell_type": "code",
   "execution_count": 18,
   "metadata": {},
   "outputs": [
    {
     "name": "stdout",
     "output_type": "stream",
     "text": [
      "Irreps for MRCI calculation\n"
     ]
    },
    {
     "data": {
      "text/html": [
       "<div>\n",
       "<style scoped>\n",
       "    .dataframe tbody tr th:only-of-type {\n",
       "        vertical-align: middle;\n",
       "    }\n",
       "\n",
       "    .dataframe tbody tr th {\n",
       "        vertical-align: top;\n",
       "    }\n",
       "\n",
       "    .dataframe thead th {\n",
       "        text-align: right;\n",
       "    }\n",
       "</style>\n",
       "<table border=\"1\" class=\"dataframe\">\n",
       "  <thead>\n",
       "    <tr style=\"text-align: right;\">\n",
       "      <th></th>\n",
       "      <th>Ag</th>\n",
       "      <th>B3u</th>\n",
       "      <th>B2u</th>\n",
       "      <th>B1g</th>\n",
       "      <th>B1u</th>\n",
       "      <th>B2g</th>\n",
       "      <th>B3g</th>\n",
       "      <th>Au</th>\n",
       "    </tr>\n",
       "  </thead>\n",
       "  <tbody>\n",
       "    <tr>\n",
       "      <th>Quartet</th>\n",
       "      <td>0</td>\n",
       "      <td>0</td>\n",
       "      <td>0</td>\n",
       "      <td>0</td>\n",
       "      <td>0</td>\n",
       "      <td>0</td>\n",
       "      <td>0</td>\n",
       "      <td>1</td>\n",
       "    </tr>\n",
       "    <tr>\n",
       "      <th>Doublet</th>\n",
       "      <td>0</td>\n",
       "      <td>2</td>\n",
       "      <td>2</td>\n",
       "      <td>0</td>\n",
       "      <td>2</td>\n",
       "      <td>0</td>\n",
       "      <td>0</td>\n",
       "      <td>2</td>\n",
       "    </tr>\n",
       "  </tbody>\n",
       "</table>\n",
       "</div>"
      ],
      "text/plain": [
       "         Ag  B3u  B2u  B1g  B1u  B2g  B3g  Au\n",
       "Quartet   0    0    0    0    0    0    0   1\n",
       "Doublet   0    2    2    0    2    0    0   2"
      ]
     },
     "execution_count": 18,
     "metadata": {},
     "output_type": "execute_result"
    }
   ],
   "source": [
    "print('Irreps for MRCI calculation')\n",
    "# only spatial, so must divide counts by spin multiplicity\n",
    "cols = ['Ag', 'B3u', 'B2u', 'B1g', 'B1u', 'B2g', 'B3g', 'Au']  # Molpro ordering\n",
    "# spin multiplicities\n",
    "spinmult = [chem.spinname(sym[0]).capitalize() for sym in symbols]\n",
    "dfirr = pandas.DataFrame(columns=cols, index=set(spinmult)).fillna(0)\n",
    "for spin, tsymb, termidx in zip(spinmult, symbols, idx):\n",
    "    for irr in irrtot[termidx]:\n",
    "        dfirr.loc[spin, irr] += 1\n",
    "for spin in dfirr.index:\n",
    "    dfirr.loc[spin] //= chem.spinname(spin)\n",
    "dfirr"
   ]
  },
  {
   "cell_type": "code",
   "execution_count": null,
   "metadata": {},
   "outputs": [],
   "source": []
  },
  {
   "cell_type": "code",
   "execution_count": null,
   "metadata": {},
   "outputs": [],
   "source": []
  }
 ],
 "metadata": {
  "kernelspec": {
   "display_name": "Python 3 (ipykernel)",
   "language": "python",
   "name": "python3"
  },
  "language_info": {
   "codemirror_mode": {
    "name": "ipython",
    "version": 3
   },
   "file_extension": ".py",
   "mimetype": "text/x-python",
   "name": "python",
   "nbconvert_exporter": "python",
   "pygments_lexer": "ipython3",
   "version": "3.7.12"
  }
 },
 "nbformat": 4,
 "nbformat_minor": 2
}
